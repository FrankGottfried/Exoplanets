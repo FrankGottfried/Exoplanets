{
 "cells": [
  {
   "cell_type": "code",
   "execution_count": 1,
   "metadata": {},
   "outputs": [],
   "source": [
    "import os\n",
    "try:\n",
    "\tos.chdir(os.path.join(os.getcwd(), 'artifact/examples'))\n",
    "\tprint(os.getcwd())\n",
    "except:\n",
    "\tpass"
   ]
  },
  {
   "cell_type": "code",
   "execution_count": 2,
   "metadata": {},
   "outputs": [],
   "source": [
    "import os\n",
    "import configparser\n",
    "import numpy as np\n",
    "import logging\n",
    "import sys\n",
    "import random"
   ]
  },
  {
   "cell_type": "code",
   "execution_count": 3,
   "metadata": {},
   "outputs": [
    {
     "data": {
      "text/plain": [
       "'/Users/d022166/SAP/GitRepos/Exoplanets/notebooks'"
      ]
     },
     "execution_count": 3,
     "metadata": {},
     "output_type": "execute_result"
    }
   ],
   "source": [
    "os.getcwd()"
   ]
  },
  {
   "cell_type": "code",
   "execution_count": 4,
   "metadata": {},
   "outputs": [],
   "source": [
    "ex_id = 'deploytest2'"
   ]
  },
  {
   "cell_type": "code",
   "execution_count": 7,
   "metadata": {},
   "outputs": [],
   "source": [
    "#mod_path = os.path.join(os.path.dirname(os.getcwd())[:os.getcwd().index('examples')], 'src', 'hana_ml_artifact')\n",
    "mod_path = \"/Users/d022166/SAP/GitRepos/HANAML/artifact/src/hana_ml_artifact\"  # to adapt to my local env\n",
    "sys.path.append(mod_path)\n",
    "#mod_path2 = os.path.join(os.path.dirname(os.getcwd())[:os.getcwd().index('examples')], 'src')\n",
    "mod_path2 = \"/Users/d022166/SAP/GitRepos/HANAML/artifact/src\"   # to adapt to my local env\n",
    "sys.path.append(mod_path2)\n",
    "from hana_ml import dataframe as hd\n",
    "from hana_ml.algorithms.pal.trees import RandomForestClassifier\n",
    "from hana_ml.algorithms.pal.partition import train_test_val_split\n",
    "from hana_ml_artifact import Generator \n"
   ]
  },
  {
   "cell_type": "code",
   "execution_count": 8,
   "metadata": {},
   "outputs": [],
   "source": [
    "address=\"zeus.hana.canary.eu-central-1.whitney.dbaas.ondemand.com\"\n",
    "port=21761\n",
    "user=\"SYSTEM\"\n",
    "password=\"Abcd1234\""
   ]
  },
  {
   "cell_type": "code",
   "execution_count": 9,
   "metadata": {},
   "outputs": [],
   "source": [
    "conn = hd.ConnectionContext(\"{}\".format(address),int(\"{}\".format(port)), \"{}\".format(user), \"{}\".format(password),\n",
    "                           encrypt=\"true\", sslValidateCertificate=\"false\")"
   ]
  },
  {
   "cell_type": "code",
   "execution_count": 10,
   "metadata": {},
   "outputs": [],
   "source": [
    "# **Cloud Foundry setttings**\n",
    "\n",
    "api='https://api.cf.sap.hana.ondemand.com' \n",
    "org='PAL_DSP'\n",
    "space='LCM2'\n",
    "password='Ib2aPwz$'\n",
    "user='frank.gottfried@sap.com'\n",
    "\n",
    "\n",
    "#api = settings.get(\"cloudfoundry\",\"api\")\n",
    "#org = settings.get(\"cloudfoundry\",\"org\")\n",
    "#space = settings.get(\"cloudfoundry\",\"space\")\n",
    "#cfuser = settings.get(\"cloudfoundry\",\"user\")\n",
    "#cfpass = settings.get(\"cloudfoundry\",\"password\", raw=True)"
   ]
  },
  {
   "cell_type": "code",
   "execution_count": 11,
   "metadata": {},
   "outputs": [
    {
     "data": {
      "text/plain": [
       "'/Users/d022166/SAP/GitRepos/Exoplanets/notebooks'"
      ]
     },
     "execution_count": 11,
     "metadata": {},
     "output_type": "execute_result"
    }
   ],
   "source": [
    "pwd"
   ]
  },
  {
   "cell_type": "code",
   "execution_count": 12,
   "metadata": {},
   "outputs": [],
   "source": [
    "# Enable SQL Trace\n",
    "conn.sql_tracer.enable_sql_trace(True)"
   ]
  },
  {
   "cell_type": "code",
   "execution_count": 13,
   "metadata": {},
   "outputs": [],
   "source": [
    "# Enable whether all hitoric sql calls need to be kept or just the last one of a algorithm/function\n",
    "conn.sql_tracer.enable_trace_history(True)"
   ]
  },
  {
   "cell_type": "code",
   "execution_count": 14,
   "metadata": {},
   "outputs": [],
   "source": [
    "train_df = conn.table(\"EXOTRAIN_FFT\", schema=\"EXOPLANETS\")\n",
    "test_df = conn.table(\"EXOTEST_FFT\", schema=\"EXOPLANETS\")"
   ]
  },
  {
   "cell_type": "code",
   "execution_count": 15,
   "metadata": {},
   "outputs": [],
   "source": [
    "columns = train_df.columns"
   ]
  },
  {
   "cell_type": "code",
   "execution_count": 16,
   "metadata": {},
   "outputs": [],
   "source": [
    "# remove \"LABEL\" and \"ID\" column from LIST \n",
    "columns.remove(\"LABEL\")\n",
    "columns.remove(\"ID\")"
   ]
  },
  {
   "cell_type": "code",
   "execution_count": 17,
   "metadata": {},
   "outputs": [],
   "source": [
    "# by symmetry of the fourier series we remove half the columns\n",
    "columns_to_drop = columns[1599 :]"
   ]
  },
  {
   "cell_type": "code",
   "execution_count": 18,
   "metadata": {},
   "outputs": [
    {
     "name": "stdout",
     "output_type": "stream",
     "text": [
      "1499\n"
     ]
    }
   ],
   "source": [
    "# remove low frequencies\n",
    "columns_to_drop = columns[0:100] + columns_to_drop\n",
    "columns_to_keep = [col for col in columns if col not in columns_to_drop]\n",
    "print(len(columns_to_keep))"
   ]
  },
  {
   "cell_type": "code",
   "execution_count": 19,
   "metadata": {},
   "outputs": [],
   "source": [
    "train_df = train_df.drop(columns_to_drop)\n",
    "test_df = test_df.drop(columns_to_drop)"
   ]
  },
  {
   "cell_type": "code",
   "execution_count": 20,
   "metadata": {},
   "outputs": [
    {
     "data": {
      "text/plain": [
       "5050"
      ]
     },
     "execution_count": 20,
     "metadata": {},
     "output_type": "execute_result"
    }
   ],
   "source": [
    "train_df.filter(\"LABEL=1\").count()"
   ]
  },
  {
   "cell_type": "code",
   "execution_count": 21,
   "metadata": {},
   "outputs": [],
   "source": [
    "rfc = RandomForestClassifier(conn_context=conn,n_estimators=1000,\n",
    "                              max_features=1499, random_state=2,\n",
    "                                 split_threshold=0.00001,\n",
    "                                  calculate_oob=True, \n",
    "                             min_samples_leaf=10, thread_ratio=0.8)"
   ]
  },
  {
   "cell_type": "code",
   "execution_count": 22,
   "metadata": {},
   "outputs": [
    {
     "name": "stdout",
     "output_type": "stream",
     "text": [
      "RandomForestClassifier\n"
     ]
    },
    {
     "name": "stderr",
     "output_type": "stream",
     "text": [
      "INFO:hana_ml.ml_base:Executing SQL: DROP TABLE \"#PAL_RANDOM_FOREST_DATA_TBL_0\"\n",
      "INFO:hana_ml.ml_base:Executing SQL: CREATE LOCAL TEMPORARY COLUMN TABLE \"#PAL_RANDOM_FOREST_DATA_TBL_0\" AS (SELECT \"ID\", \"FREQ.101\", \"FREQ.102\", \"FREQ.103\", \"FREQ.104\", \"FREQ.105\", \"FREQ.106\", \"FREQ.107\", \"FREQ.108\", \"FREQ.109\", \"FREQ.110\", \"FREQ.111\", \"FREQ.112\", \"FREQ.113\", \"FREQ.114\", \"FREQ.115\", \"FREQ.116\", \"FREQ.117\", \"FREQ.118\", \"FREQ.119\", \"FREQ.120\", \"FREQ.121\", \"FREQ.122\", \"FREQ.123\", \"FREQ.124\", \"FREQ.125\", \"FREQ.126\", \"FREQ.127\", \"FREQ.128\", \"FREQ.129\", \"FREQ.130\", \"FREQ.131\", \"FREQ.132\", \"FREQ.133\", \"FREQ.134\", \"FREQ.135\", \"FREQ.136\", \"FREQ.137\", \"FREQ.138\", \"FREQ.139\", \"FREQ.140\", \"FREQ.141\", \"FREQ.142\", \"FREQ.143\", \"FREQ.144\", \"FREQ.145\", \"FREQ.146\", \"FREQ.147\", \"FREQ.148\", \"FREQ.149\", \"FREQ.150\", \"FREQ.151\", \"FREQ.152\", \"FREQ.153\", \"FREQ.154\", \"FREQ.155\", \"FREQ.156\", \"FREQ.157\", \"FREQ.158\", \"FREQ.159\", \"FREQ.160\", \"FREQ.161\", \"FREQ.162\", \"FREQ.163\", \"FREQ.164\", \"FREQ.165\", \"FREQ.166\", \"FREQ.167\", \"FREQ.168\", \"FREQ.169\", \"FREQ.170\", \"FREQ.171\", \"FREQ.172\", \"FREQ.173\", \"FREQ.174\", \"FREQ.175\", \"FREQ.176\", \"FREQ.177\", \"FREQ.178\", \"FREQ.179\", \"FREQ.180\", \"FREQ.181\", \"FREQ.182\", \"FREQ.183\", \"FREQ.184\", \"FREQ.185\", \"FREQ.186\", \"FREQ.187\", \"FREQ.188\", \"FREQ.189\", \"FREQ.190\", \"FREQ.191\", \"FREQ.192\", \"FREQ.193\", \"FREQ.194\", \"FREQ.195\", \"FREQ.196\", \"FREQ.197\", \"FREQ.198\", \"FREQ.199\", \"FREQ.200\", \"FREQ.201\", \"FREQ.202\", \"FREQ.203\", \"FREQ.204\", \"FREQ.205\", \"FREQ.206\", \"FREQ.207\", \"FREQ.208\", \"FREQ.209\", \"FREQ.210\", \"FREQ.211\", \"FREQ.212\", \"FREQ.213\", \"FREQ.214\", \"FREQ.215\", \"FREQ.216\", \"FREQ.217\", \"FREQ.218\", \"FREQ.219\", \"FREQ.220\", \"FREQ.221\", \"FREQ.222\", \"FREQ.223\", \"FREQ.224\", \"FREQ.225\", \"FREQ.226\", \"FREQ.227\", \"FREQ.228\", \"FREQ.229\", \"FREQ.230\", \"FREQ.231\", \"FREQ.232\", \"FREQ.233\", \"FREQ.234\", \"FREQ.235\", \"FREQ.236\", \"FREQ.237\", \"FREQ.238\", \"FREQ.239\", \"FREQ.240\", \"FREQ.241\", \"FREQ.242\", \"FREQ.243\", \"FREQ.244\", \"FREQ.245\", \"FREQ.246\", \"FREQ.247\", \"FREQ.248\", \"FREQ.249\", \"FREQ.250\", \"FREQ.251\", \"FREQ.252\", \"FREQ.253\", \"FREQ.254\", \"FREQ.255\", \"FREQ.256\", \"FREQ.257\", \"FREQ.258\", \"FREQ.259\", \"FREQ.260\", \"FREQ.261\", \"FREQ.262\", \"FREQ.263\", \"FREQ.264\", \"FREQ.265\", \"FREQ.266\", \"FREQ.267\", \"FREQ.268\", \"FREQ.269\", \"FREQ.270\", \"FREQ.271\", \"FREQ.272\", \"FREQ.273\", \"FREQ.274\", \"FREQ.275\", \"FREQ.276\", \"FREQ.277\", \"FREQ.278\", \"FREQ.279\", \"FREQ.280\", \"FREQ.281\", \"FREQ.282\", \"FREQ.283\", \"FREQ.284\", \"FREQ.285\", \"FREQ.286\", \"FREQ.287\", \"FREQ.288\", \"FREQ.289\", \"FREQ.290\", \"FREQ.291\", \"FREQ.292\", \"FREQ.293\", \"FREQ.294\", \"FREQ.295\", \"FREQ.296\", \"FREQ.297\", \"FREQ.298\", \"FREQ.299\", \"FREQ.300\", \"FREQ.301\", \"FREQ.302\", \"FREQ.303\", \"FREQ.304\", \"FREQ.305\", \"FREQ.306\", \"FREQ.307\", \"FREQ.308\", \"FREQ.309\", \"FREQ.310\", \"FREQ.311\", \"FREQ.312\", \"FREQ.313\", \"FREQ.314\", \"FREQ.315\", \"FREQ.316\", \"FREQ.317\", \"FREQ.318\", \"FREQ.319\", \"FREQ.320\", \"FREQ.321\", \"FREQ.322\", \"FREQ.323\", \"FREQ.324\", \"FREQ.325\", \"FREQ.326\", \"FREQ.327\", \"FREQ.328\", \"FREQ.329\", \"FREQ.330\", \"FREQ.331\", \"FREQ.332\", \"FREQ.333\", \"FREQ.334\", \"FREQ.335\", \"FREQ.336\", \"FREQ.337\", \"FREQ.338\", \"FREQ.339\", \"FREQ.340\", \"FREQ.341\", \"FREQ.342\", \"FREQ.343\", \"FREQ.344\", \"FREQ.345\", \"FREQ.346\", \"FREQ.347\", \"FREQ.348\", \"FREQ.349\", \"FREQ.350\", \"FREQ.351\", \"FREQ.352\", \"FREQ.353\", \"FREQ.354\", \"FREQ.355\", \"FREQ.356\", \"FREQ.357\", \"FREQ.358\", \"FREQ.359\", \"FREQ.360\", \"FREQ.361\", \"FREQ.362\", \"FREQ.363\", \"FREQ.364\", \"FREQ.365\", \"FREQ.366\", \"FREQ.367\", \"FREQ.368\", \"FREQ.369\", \"FREQ.370\", \"FREQ.371\", \"FREQ.372\", \"FREQ.373\", \"FREQ.374\", \"FREQ.375\", \"FREQ.376\", \"FREQ.377\", \"FREQ.378\", \"FREQ.379\", \"FREQ.380\", \"FREQ.381\", \"FREQ.382\", \"FREQ.383\", \"FREQ.384\", \"FREQ.385\", \"FREQ.386\", \"FREQ.387\", \"FREQ.388\", \"FREQ.389\", \"FREQ.390\", \"FREQ.391\", \"FREQ.392\", \"FREQ.393\", \"FREQ.394\", \"FREQ.395\", \"FREQ.396\", \"FREQ.397\", \"FREQ.398\", \"FREQ.399\", \"FREQ.400\", \"FREQ.401\", \"FREQ.402\", \"FREQ.403\", \"FREQ.404\", \"FREQ.405\", \"FREQ.406\", \"FREQ.407\", \"FREQ.408\", \"FREQ.409\", \"FREQ.410\", \"FREQ.411\", \"FREQ.412\", \"FREQ.413\", \"FREQ.414\", \"FREQ.415\", \"FREQ.416\", \"FREQ.417\", \"FREQ.418\", \"FREQ.419\", \"FREQ.420\", \"FREQ.421\", \"FREQ.422\", \"FREQ.423\", \"FREQ.424\", \"FREQ.425\", \"FREQ.426\", \"FREQ.427\", \"FREQ.428\", \"FREQ.429\", \"FREQ.430\", \"FREQ.431\", \"FREQ.432\", \"FREQ.433\", \"FREQ.434\", \"FREQ.435\", \"FREQ.436\", \"FREQ.437\", \"FREQ.438\", \"FREQ.439\", \"FREQ.440\", \"FREQ.441\", \"FREQ.442\", \"FREQ.443\", \"FREQ.444\", \"FREQ.445\", \"FREQ.446\", \"FREQ.447\", \"FREQ.448\", \"FREQ.449\", \"FREQ.450\", \"FREQ.451\", \"FREQ.452\", \"FREQ.453\", \"FREQ.454\", \"FREQ.455\", \"FREQ.456\", \"FREQ.457\", \"FREQ.458\", \"FREQ.459\", \"FREQ.460\", \"FREQ.461\", \"FREQ.462\", \"FREQ.463\", \"FREQ.464\", \"FREQ.465\", \"FREQ.466\", \"FREQ.467\", \"FREQ.468\", \"FREQ.469\", \"FREQ.470\", \"FREQ.471\", \"FREQ.472\", \"FREQ.473\", \"FREQ.474\", \"FREQ.475\", \"FREQ.476\", \"FREQ.477\", \"FREQ.478\", \"FREQ.479\", \"FREQ.480\", \"FREQ.481\", \"FREQ.482\", \"FREQ.483\", \"FREQ.484\", \"FREQ.485\", \"FREQ.486\", \"FREQ.487\", \"FREQ.488\", \"FREQ.489\", \"FREQ.490\", \"FREQ.491\", \"FREQ.492\", \"FREQ.493\", \"FREQ.494\", \"FREQ.495\", \"FREQ.496\", \"FREQ.497\", \"FREQ.498\", \"FREQ.499\", \"FREQ.500\", \"FREQ.501\", \"FREQ.502\", \"FREQ.503\", \"FREQ.504\", \"FREQ.505\", \"FREQ.506\", \"FREQ.507\", \"FREQ.508\", \"FREQ.509\", \"FREQ.510\", \"FREQ.511\", \"FREQ.512\", \"FREQ.513\", \"FREQ.514\", \"FREQ.515\", \"FREQ.516\", \"FREQ.517\", \"FREQ.518\", \"FREQ.519\", \"FREQ.520\", \"FREQ.521\", \"FREQ.522\", \"FREQ.523\", \"FREQ.524\", \"FREQ.525\", \"FREQ.526\", \"FREQ.527\", \"FREQ.528\", \"FREQ.529\", \"FREQ.530\", \"FREQ.531\", \"FREQ.532\", \"FREQ.533\", \"FREQ.534\", \"FREQ.535\", \"FREQ.536\", \"FREQ.537\", \"FREQ.538\", \"FREQ.539\", \"FREQ.540\", \"FREQ.541\", \"FREQ.542\", \"FREQ.543\", \"FREQ.544\", \"FREQ.545\", \"FREQ.546\", \"FREQ.547\", \"FREQ.548\", \"FREQ.549\", \"FREQ.550\", \"FREQ.551\", \"FREQ.552\", \"FREQ.553\", \"FREQ.554\", \"FREQ.555\", \"FREQ.556\", \"FREQ.557\", \"FREQ.558\", \"FREQ.559\", \"FREQ.560\", \"FREQ.561\", \"FREQ.562\", \"FREQ.563\", \"FREQ.564\", \"FREQ.565\", \"FREQ.566\", \"FREQ.567\", \"FREQ.568\", \"FREQ.569\", \"FREQ.570\", \"FREQ.571\", \"FREQ.572\", \"FREQ.573\", \"FREQ.574\", \"FREQ.575\", \"FREQ.576\", \"FREQ.577\", \"FREQ.578\", \"FREQ.579\", \"FREQ.580\", \"FREQ.581\", \"FREQ.582\", \"FREQ.583\", \"FREQ.584\", \"FREQ.585\", \"FREQ.586\", \"FREQ.587\", \"FREQ.588\", \"FREQ.589\", \"FREQ.590\", \"FREQ.591\", \"FREQ.592\", \"FREQ.593\", \"FREQ.594\", \"FREQ.595\", \"FREQ.596\", \"FREQ.597\", \"FREQ.598\", \"FREQ.599\", \"FREQ.600\", \"FREQ.601\", \"FREQ.602\", \"FREQ.603\", \"FREQ.604\", \"FREQ.605\", \"FREQ.606\", \"FREQ.607\", \"FREQ.608\", \"FREQ.609\", \"FREQ.610\", \"FREQ.611\", \"FREQ.612\", \"FREQ.613\", \"FREQ.614\", \"FREQ.615\", \"FREQ.616\", \"FREQ.617\", \"FREQ.618\", \"FREQ.619\", \"FREQ.620\", \"FREQ.621\", \"FREQ.622\", \"FREQ.623\", \"FREQ.624\", \"FREQ.625\", \"FREQ.626\", \"FREQ.627\", \"FREQ.628\", \"FREQ.629\", \"FREQ.630\", \"FREQ.631\", \"FREQ.632\", \"FREQ.633\", \"FREQ.634\", \"FREQ.635\", \"FREQ.636\", \"FREQ.637\", \"FREQ.638\", \"FREQ.639\", \"FREQ.640\", \"FREQ.641\", \"FREQ.642\", \"FREQ.643\", \"FREQ.644\", \"FREQ.645\", \"FREQ.646\", \"FREQ.647\", \"FREQ.648\", \"FREQ.649\", \"FREQ.650\", \"FREQ.651\", \"FREQ.652\", \"FREQ.653\", \"FREQ.654\", \"FREQ.655\", \"FREQ.656\", \"FREQ.657\", \"FREQ.658\", \"FREQ.659\", \"FREQ.660\", \"FREQ.661\", \"FREQ.662\", \"FREQ.663\", \"FREQ.664\", \"FREQ.665\", \"FREQ.666\", \"FREQ.667\", \"FREQ.668\", \"FREQ.669\", \"FREQ.670\", \"FREQ.671\", \"FREQ.672\", \"FREQ.673\", \"FREQ.674\", \"FREQ.675\", \"FREQ.676\", \"FREQ.677\", \"FREQ.678\", \"FREQ.679\", \"FREQ.680\", \"FREQ.681\", \"FREQ.682\", \"FREQ.683\", \"FREQ.684\", \"FREQ.685\", \"FREQ.686\", \"FREQ.687\", \"FREQ.688\", \"FREQ.689\", \"FREQ.690\", \"FREQ.691\", \"FREQ.692\", \"FREQ.693\", \"FREQ.694\", \"FREQ.695\", \"FREQ.696\", \"FREQ.697\", \"FREQ.698\", \"FREQ.699\", \"FREQ.700\", \"FREQ.701\", \"FREQ.702\", \"FREQ.703\", \"FREQ.704\", \"FREQ.705\", \"FREQ.706\", \"FREQ.707\", \"FREQ.708\", \"FREQ.709\", \"FREQ.710\", \"FREQ.711\", \"FREQ.712\", \"FREQ.713\", \"FREQ.714\", \"FREQ.715\", \"FREQ.716\", \"FREQ.717\", \"FREQ.718\", \"FREQ.719\", \"FREQ.720\", \"FREQ.721\", \"FREQ.722\", \"FREQ.723\", \"FREQ.724\", \"FREQ.725\", \"FREQ.726\", \"FREQ.727\", \"FREQ.728\", \"FREQ.729\", \"FREQ.730\", \"FREQ.731\", \"FREQ.732\", \"FREQ.733\", \"FREQ.734\", \"FREQ.735\", \"FREQ.736\", \"FREQ.737\", \"FREQ.738\", \"FREQ.739\", \"FREQ.740\", \"FREQ.741\", \"FREQ.742\", \"FREQ.743\", \"FREQ.744\", \"FREQ.745\", \"FREQ.746\", \"FREQ.747\", \"FREQ.748\", \"FREQ.749\", \"FREQ.750\", \"FREQ.751\", \"FREQ.752\", \"FREQ.753\", \"FREQ.754\", \"FREQ.755\", \"FREQ.756\", \"FREQ.757\", \"FREQ.758\", \"FREQ.759\", \"FREQ.760\", \"FREQ.761\", \"FREQ.762\", \"FREQ.763\", \"FREQ.764\", \"FREQ.765\", \"FREQ.766\", \"FREQ.767\", \"FREQ.768\", \"FREQ.769\", \"FREQ.770\", \"FREQ.771\", \"FREQ.772\", \"FREQ.773\", \"FREQ.774\", \"FREQ.775\", \"FREQ.776\", \"FREQ.777\", \"FREQ.778\", \"FREQ.779\", \"FREQ.780\", \"FREQ.781\", \"FREQ.782\", \"FREQ.783\", \"FREQ.784\", \"FREQ.785\", \"FREQ.786\", \"FREQ.787\", \"FREQ.788\", \"FREQ.789\", \"FREQ.790\", \"FREQ.791\", \"FREQ.792\", \"FREQ.793\", \"FREQ.794\", \"FREQ.795\", \"FREQ.796\", \"FREQ.797\", \"FREQ.798\", \"FREQ.799\", \"FREQ.800\", \"FREQ.801\", \"FREQ.802\", \"FREQ.803\", \"FREQ.804\", \"FREQ.805\", \"FREQ.806\", \"FREQ.807\", \"FREQ.808\", \"FREQ.809\", \"FREQ.810\", \"FREQ.811\", \"FREQ.812\", \"FREQ.813\", \"FREQ.814\", \"FREQ.815\", \"FREQ.816\", \"FREQ.817\", \"FREQ.818\", \"FREQ.819\", \"FREQ.820\", \"FREQ.821\", \"FREQ.822\", \"FREQ.823\", \"FREQ.824\", \"FREQ.825\", \"FREQ.826\", \"FREQ.827\", \"FREQ.828\", \"FREQ.829\", \"FREQ.830\", \"FREQ.831\", \"FREQ.832\", \"FREQ.833\", \"FREQ.834\", \"FREQ.835\", \"FREQ.836\", \"FREQ.837\", \"FREQ.838\", \"FREQ.839\", \"FREQ.840\", \"FREQ.841\", \"FREQ.842\", \"FREQ.843\", \"FREQ.844\", \"FREQ.845\", \"FREQ.846\", \"FREQ.847\", \"FREQ.848\", \"FREQ.849\", \"FREQ.850\", \"FREQ.851\", \"FREQ.852\", \"FREQ.853\", \"FREQ.854\", \"FREQ.855\", \"FREQ.856\", \"FREQ.857\", \"FREQ.858\", \"FREQ.859\", \"FREQ.860\", \"FREQ.861\", \"FREQ.862\", \"FREQ.863\", \"FREQ.864\", \"FREQ.865\", \"FREQ.866\", \"FREQ.867\", \"FREQ.868\", \"FREQ.869\", \"FREQ.870\", \"FREQ.871\", \"FREQ.872\", \"FREQ.873\", \"FREQ.874\", \"FREQ.875\", \"FREQ.876\", \"FREQ.877\", \"FREQ.878\", \"FREQ.879\", \"FREQ.880\", \"FREQ.881\", \"FREQ.882\", \"FREQ.883\", \"FREQ.884\", \"FREQ.885\", \"FREQ.886\", \"FREQ.887\", \"FREQ.888\", \"FREQ.889\", \"FREQ.890\", \"FREQ.891\", \"FREQ.892\", \"FREQ.893\", \"FREQ.894\", \"FREQ.895\", \"FREQ.896\", \"FREQ.897\", \"FREQ.898\", \"FREQ.899\", \"FREQ.900\", \"FREQ.901\", \"FREQ.902\", \"FREQ.903\", \"FREQ.904\", \"FREQ.905\", \"FREQ.906\", \"FREQ.907\", \"FREQ.908\", \"FREQ.909\", \"FREQ.910\", \"FREQ.911\", \"FREQ.912\", \"FREQ.913\", \"FREQ.914\", \"FREQ.915\", \"FREQ.916\", \"FREQ.917\", \"FREQ.918\", \"FREQ.919\", \"FREQ.920\", \"FREQ.921\", \"FREQ.922\", \"FREQ.923\", \"FREQ.924\", \"FREQ.925\", \"FREQ.926\", \"FREQ.927\", \"FREQ.928\", \"FREQ.929\", \"FREQ.930\", \"FREQ.931\", \"FREQ.932\", \"FREQ.933\", \"FREQ.934\", \"FREQ.935\", \"FREQ.936\", \"FREQ.937\", \"FREQ.938\", \"FREQ.939\", \"FREQ.940\", \"FREQ.941\", \"FREQ.942\", \"FREQ.943\", \"FREQ.944\", \"FREQ.945\", \"FREQ.946\", \"FREQ.947\", \"FREQ.948\", \"FREQ.949\", \"FREQ.950\", \"FREQ.951\", \"FREQ.952\", \"FREQ.953\", \"FREQ.954\", \"FREQ.955\", \"FREQ.956\", \"FREQ.957\", \"FREQ.958\", \"FREQ.959\", \"FREQ.960\", \"FREQ.961\", \"FREQ.962\", \"FREQ.963\", \"FREQ.964\", \"FREQ.965\", \"FREQ.966\", \"FREQ.967\", \"FREQ.968\", \"FREQ.969\", \"FREQ.970\", \"FREQ.971\", \"FREQ.972\", \"FREQ.973\", \"FREQ.974\", \"FREQ.975\", \"FREQ.976\", \"FREQ.977\", \"FREQ.978\", \"FREQ.979\", \"FREQ.980\", \"FREQ.981\", \"FREQ.982\", \"FREQ.983\", \"FREQ.984\", \"FREQ.985\", \"FREQ.986\", \"FREQ.987\", \"FREQ.988\", \"FREQ.989\", \"FREQ.990\", \"FREQ.991\", \"FREQ.992\", \"FREQ.993\", \"FREQ.994\", \"FREQ.995\", \"FREQ.996\", \"FREQ.997\", \"FREQ.998\", \"FREQ.999\", \"FREQ.1000\", \"FREQ.1001\", \"FREQ.1002\", \"FREQ.1003\", \"FREQ.1004\", \"FREQ.1005\", \"FREQ.1006\", \"FREQ.1007\", \"FREQ.1008\", \"FREQ.1009\", \"FREQ.1010\", \"FREQ.1011\", \"FREQ.1012\", \"FREQ.1013\", \"FREQ.1014\", \"FREQ.1015\", \"FREQ.1016\", \"FREQ.1017\", \"FREQ.1018\", \"FREQ.1019\", \"FREQ.1020\", \"FREQ.1021\", \"FREQ.1022\", \"FREQ.1023\", \"FREQ.1024\", \"FREQ.1025\", \"FREQ.1026\", \"FREQ.1027\", \"FREQ.1028\", \"FREQ.1029\", \"FREQ.1030\", \"FREQ.1031\", \"FREQ.1032\", \"FREQ.1033\", \"FREQ.1034\", \"FREQ.1035\", \"FREQ.1036\", \"FREQ.1037\", \"FREQ.1038\", \"FREQ.1039\", \"FREQ.1040\", \"FREQ.1041\", \"FREQ.1042\", \"FREQ.1043\", \"FREQ.1044\", \"FREQ.1045\", \"FREQ.1046\", \"FREQ.1047\", \"FREQ.1048\", \"FREQ.1049\", \"FREQ.1050\", \"FREQ.1051\", \"FREQ.1052\", \"FREQ.1053\", \"FREQ.1054\", \"FREQ.1055\", \"FREQ.1056\", \"FREQ.1057\", \"FREQ.1058\", \"FREQ.1059\", \"FREQ.1060\", \"FREQ.1061\", \"FREQ.1062\", \"FREQ.1063\", \"FREQ.1064\", \"FREQ.1065\", \"FREQ.1066\", \"FREQ.1067\", \"FREQ.1068\", \"FREQ.1069\", \"FREQ.1070\", \"FREQ.1071\", \"FREQ.1072\", \"FREQ.1073\", \"FREQ.1074\", \"FREQ.1075\", \"FREQ.1076\", \"FREQ.1077\", \"FREQ.1078\", \"FREQ.1079\", \"FREQ.1080\", \"FREQ.1081\", \"FREQ.1082\", \"FREQ.1083\", \"FREQ.1084\", \"FREQ.1085\", \"FREQ.1086\", \"FREQ.1087\", \"FREQ.1088\", \"FREQ.1089\", \"FREQ.1090\", \"FREQ.1091\", \"FREQ.1092\", \"FREQ.1093\", \"FREQ.1094\", \"FREQ.1095\", \"FREQ.1096\", \"FREQ.1097\", \"FREQ.1098\", \"FREQ.1099\", \"FREQ.1100\", \"FREQ.1101\", \"FREQ.1102\", \"FREQ.1103\", \"FREQ.1104\", \"FREQ.1105\", \"FREQ.1106\", \"FREQ.1107\", \"FREQ.1108\", \"FREQ.1109\", \"FREQ.1110\", \"FREQ.1111\", \"FREQ.1112\", \"FREQ.1113\", \"FREQ.1114\", \"FREQ.1115\", \"FREQ.1116\", \"FREQ.1117\", \"FREQ.1118\", \"FREQ.1119\", \"FREQ.1120\", \"FREQ.1121\", \"FREQ.1122\", \"FREQ.1123\", \"FREQ.1124\", \"FREQ.1125\", \"FREQ.1126\", \"FREQ.1127\", \"FREQ.1128\", \"FREQ.1129\", \"FREQ.1130\", \"FREQ.1131\", \"FREQ.1132\", \"FREQ.1133\", \"FREQ.1134\", \"FREQ.1135\", \"FREQ.1136\", \"FREQ.1137\", \"FREQ.1138\", \"FREQ.1139\", \"FREQ.1140\", \"FREQ.1141\", \"FREQ.1142\", \"FREQ.1143\", \"FREQ.1144\", \"FREQ.1145\", \"FREQ.1146\", \"FREQ.1147\", \"FREQ.1148\", \"FREQ.1149\", \"FREQ.1150\", \"FREQ.1151\", \"FREQ.1152\", \"FREQ.1153\", \"FREQ.1154\", \"FREQ.1155\", \"FREQ.1156\", \"FREQ.1157\", \"FREQ.1158\", \"FREQ.1159\", \"FREQ.1160\", \"FREQ.1161\", \"FREQ.1162\", \"FREQ.1163\", \"FREQ.1164\", \"FREQ.1165\", \"FREQ.1166\", \"FREQ.1167\", \"FREQ.1168\", \"FREQ.1169\", \"FREQ.1170\", \"FREQ.1171\", \"FREQ.1172\", \"FREQ.1173\", \"FREQ.1174\", \"FREQ.1175\", \"FREQ.1176\", \"FREQ.1177\", \"FREQ.1178\", \"FREQ.1179\", \"FREQ.1180\", \"FREQ.1181\", \"FREQ.1182\", \"FREQ.1183\", \"FREQ.1184\", \"FREQ.1185\", \"FREQ.1186\", \"FREQ.1187\", \"FREQ.1188\", \"FREQ.1189\", \"FREQ.1190\", \"FREQ.1191\", \"FREQ.1192\", \"FREQ.1193\", \"FREQ.1194\", \"FREQ.1195\", \"FREQ.1196\", \"FREQ.1197\", \"FREQ.1198\", \"FREQ.1199\", \"FREQ.1200\", \"FREQ.1201\", \"FREQ.1202\", \"FREQ.1203\", \"FREQ.1204\", \"FREQ.1205\", \"FREQ.1206\", \"FREQ.1207\", \"FREQ.1208\", \"FREQ.1209\", \"FREQ.1210\", \"FREQ.1211\", \"FREQ.1212\", \"FREQ.1213\", \"FREQ.1214\", \"FREQ.1215\", \"FREQ.1216\", \"FREQ.1217\", \"FREQ.1218\", \"FREQ.1219\", \"FREQ.1220\", \"FREQ.1221\", \"FREQ.1222\", \"FREQ.1223\", \"FREQ.1224\", \"FREQ.1225\", \"FREQ.1226\", \"FREQ.1227\", \"FREQ.1228\", \"FREQ.1229\", \"FREQ.1230\", \"FREQ.1231\", \"FREQ.1232\", \"FREQ.1233\", \"FREQ.1234\", \"FREQ.1235\", \"FREQ.1236\", \"FREQ.1237\", \"FREQ.1238\", \"FREQ.1239\", \"FREQ.1240\", \"FREQ.1241\", \"FREQ.1242\", \"FREQ.1243\", \"FREQ.1244\", \"FREQ.1245\", \"FREQ.1246\", \"FREQ.1247\", \"FREQ.1248\", \"FREQ.1249\", \"FREQ.1250\", \"FREQ.1251\", \"FREQ.1252\", \"FREQ.1253\", \"FREQ.1254\", \"FREQ.1255\", \"FREQ.1256\", \"FREQ.1257\", \"FREQ.1258\", \"FREQ.1259\", \"FREQ.1260\", \"FREQ.1261\", \"FREQ.1262\", \"FREQ.1263\", \"FREQ.1264\", \"FREQ.1265\", \"FREQ.1266\", \"FREQ.1267\", \"FREQ.1268\", \"FREQ.1269\", \"FREQ.1270\", \"FREQ.1271\", \"FREQ.1272\", \"FREQ.1273\", \"FREQ.1274\", \"FREQ.1275\", \"FREQ.1276\", \"FREQ.1277\", \"FREQ.1278\", \"FREQ.1279\", \"FREQ.1280\", \"FREQ.1281\", \"FREQ.1282\", \"FREQ.1283\", \"FREQ.1284\", \"FREQ.1285\", \"FREQ.1286\", \"FREQ.1287\", \"FREQ.1288\", \"FREQ.1289\", \"FREQ.1290\", \"FREQ.1291\", \"FREQ.1292\", \"FREQ.1293\", \"FREQ.1294\", \"FREQ.1295\", \"FREQ.1296\", \"FREQ.1297\", \"FREQ.1298\", \"FREQ.1299\", \"FREQ.1300\", \"FREQ.1301\", \"FREQ.1302\", \"FREQ.1303\", \"FREQ.1304\", \"FREQ.1305\", \"FREQ.1306\", \"FREQ.1307\", \"FREQ.1308\", \"FREQ.1309\", \"FREQ.1310\", \"FREQ.1311\", \"FREQ.1312\", \"FREQ.1313\", \"FREQ.1314\", \"FREQ.1315\", \"FREQ.1316\", \"FREQ.1317\", \"FREQ.1318\", \"FREQ.1319\", \"FREQ.1320\", \"FREQ.1321\", \"FREQ.1322\", \"FREQ.1323\", \"FREQ.1324\", \"FREQ.1325\", \"FREQ.1326\", \"FREQ.1327\", \"FREQ.1328\", \"FREQ.1329\", \"FREQ.1330\", \"FREQ.1331\", \"FREQ.1332\", \"FREQ.1333\", \"FREQ.1334\", \"FREQ.1335\", \"FREQ.1336\", \"FREQ.1337\", \"FREQ.1338\", \"FREQ.1339\", \"FREQ.1340\", \"FREQ.1341\", \"FREQ.1342\", \"FREQ.1343\", \"FREQ.1344\", \"FREQ.1345\", \"FREQ.1346\", \"FREQ.1347\", \"FREQ.1348\", \"FREQ.1349\", \"FREQ.1350\", \"FREQ.1351\", \"FREQ.1352\", \"FREQ.1353\", \"FREQ.1354\", \"FREQ.1355\", \"FREQ.1356\", \"FREQ.1357\", \"FREQ.1358\", \"FREQ.1359\", \"FREQ.1360\", \"FREQ.1361\", \"FREQ.1362\", \"FREQ.1363\", \"FREQ.1364\", \"FREQ.1365\", \"FREQ.1366\", \"FREQ.1367\", \"FREQ.1368\", \"FREQ.1369\", \"FREQ.1370\", \"FREQ.1371\", \"FREQ.1372\", \"FREQ.1373\", \"FREQ.1374\", \"FREQ.1375\", \"FREQ.1376\", \"FREQ.1377\", \"FREQ.1378\", \"FREQ.1379\", \"FREQ.1380\", \"FREQ.1381\", \"FREQ.1382\", \"FREQ.1383\", \"FREQ.1384\", \"FREQ.1385\", \"FREQ.1386\", \"FREQ.1387\", \"FREQ.1388\", \"FREQ.1389\", \"FREQ.1390\", \"FREQ.1391\", \"FREQ.1392\", \"FREQ.1393\", \"FREQ.1394\", \"FREQ.1395\", \"FREQ.1396\", \"FREQ.1397\", \"FREQ.1398\", \"FREQ.1399\", \"FREQ.1400\", \"FREQ.1401\", \"FREQ.1402\", \"FREQ.1403\", \"FREQ.1404\", \"FREQ.1405\", \"FREQ.1406\", \"FREQ.1407\", \"FREQ.1408\", \"FREQ.1409\", \"FREQ.1410\", \"FREQ.1411\", \"FREQ.1412\", \"FREQ.1413\", \"FREQ.1414\", \"FREQ.1415\", \"FREQ.1416\", \"FREQ.1417\", \"FREQ.1418\", \"FREQ.1419\", \"FREQ.1420\", \"FREQ.1421\", \"FREQ.1422\", \"FREQ.1423\", \"FREQ.1424\", \"FREQ.1425\", \"FREQ.1426\", \"FREQ.1427\", \"FREQ.1428\", \"FREQ.1429\", \"FREQ.1430\", \"FREQ.1431\", \"FREQ.1432\", \"FREQ.1433\", \"FREQ.1434\", \"FREQ.1435\", \"FREQ.1436\", \"FREQ.1437\", \"FREQ.1438\", \"FREQ.1439\", \"FREQ.1440\", \"FREQ.1441\", \"FREQ.1442\", \"FREQ.1443\", \"FREQ.1444\", \"FREQ.1445\", \"FREQ.1446\", \"FREQ.1447\", \"FREQ.1448\", \"FREQ.1449\", \"FREQ.1450\", \"FREQ.1451\", \"FREQ.1452\", \"FREQ.1453\", \"FREQ.1454\", \"FREQ.1455\", \"FREQ.1456\", \"FREQ.1457\", \"FREQ.1458\", \"FREQ.1459\", \"FREQ.1460\", \"FREQ.1461\", \"FREQ.1462\", \"FREQ.1463\", \"FREQ.1464\", \"FREQ.1465\", \"FREQ.1466\", \"FREQ.1467\", \"FREQ.1468\", \"FREQ.1469\", \"FREQ.1470\", \"FREQ.1471\", \"FREQ.1472\", \"FREQ.1473\", \"FREQ.1474\", \"FREQ.1475\", \"FREQ.1476\", \"FREQ.1477\", \"FREQ.1478\", \"FREQ.1479\", \"FREQ.1480\", \"FREQ.1481\", \"FREQ.1482\", \"FREQ.1483\", \"FREQ.1484\", \"FREQ.1485\", \"FREQ.1486\", \"FREQ.1487\", \"FREQ.1488\", \"FREQ.1489\", \"FREQ.1490\", \"FREQ.1491\", \"FREQ.1492\", \"FREQ.1493\", \"FREQ.1494\", \"FREQ.1495\", \"FREQ.1496\", \"FREQ.1497\", \"FREQ.1498\", \"FREQ.1499\", \"FREQ.1500\", \"FREQ.1501\", \"FREQ.1502\", \"FREQ.1503\", \"FREQ.1504\", \"FREQ.1505\", \"FREQ.1506\", \"FREQ.1507\", \"FREQ.1508\", \"FREQ.1509\", \"FREQ.1510\", \"FREQ.1511\", \"FREQ.1512\", \"FREQ.1513\", \"FREQ.1514\", \"FREQ.1515\", \"FREQ.1516\", \"FREQ.1517\", \"FREQ.1518\", \"FREQ.1519\", \"FREQ.1520\", \"FREQ.1521\", \"FREQ.1522\", \"FREQ.1523\", \"FREQ.1524\", \"FREQ.1525\", \"FREQ.1526\", \"FREQ.1527\", \"FREQ.1528\", \"FREQ.1529\", \"FREQ.1530\", \"FREQ.1531\", \"FREQ.1532\", \"FREQ.1533\", \"FREQ.1534\", \"FREQ.1535\", \"FREQ.1536\", \"FREQ.1537\", \"FREQ.1538\", \"FREQ.1539\", \"FREQ.1540\", \"FREQ.1541\", \"FREQ.1542\", \"FREQ.1543\", \"FREQ.1544\", \"FREQ.1545\", \"FREQ.1546\", \"FREQ.1547\", \"FREQ.1548\", \"FREQ.1549\", \"FREQ.1550\", \"FREQ.1551\", \"FREQ.1552\", \"FREQ.1553\", \"FREQ.1554\", \"FREQ.1555\", \"FREQ.1556\", \"FREQ.1557\", \"FREQ.1558\", \"FREQ.1559\", \"FREQ.1560\", \"FREQ.1561\", \"FREQ.1562\", \"FREQ.1563\", \"FREQ.1564\", \"FREQ.1565\", \"FREQ.1566\", \"FREQ.1567\", \"FREQ.1568\", \"FREQ.1569\", \"FREQ.1570\", \"FREQ.1571\", \"FREQ.1572\", \"FREQ.1573\", \"FREQ.1574\", \"FREQ.1575\", \"FREQ.1576\", \"FREQ.1577\", \"FREQ.1578\", \"FREQ.1579\", \"FREQ.1580\", \"FREQ.1581\", \"FREQ.1582\", \"FREQ.1583\", \"FREQ.1584\", \"FREQ.1585\", \"FREQ.1586\", \"FREQ.1587\", \"FREQ.1588\", \"FREQ.1589\", \"FREQ.1590\", \"FREQ.1591\", \"FREQ.1592\", \"FREQ.1593\", \"FREQ.1594\", \"FREQ.1595\", \"FREQ.1596\", \"FREQ.1597\", \"FREQ.1598\", \"FREQ.1599\", \"LABEL\" FROM (SELECT \"ID\", \"FREQ.101\", \"FREQ.102\", \"FREQ.103\", \"FREQ.104\", \"FREQ.105\", \"FREQ.106\", \"FREQ.107\", \"FREQ.108\", \"FREQ.109\", \"FREQ.110\", \"FREQ.111\", \"FREQ.112\", \"FREQ.113\", \"FREQ.114\", \"FREQ.115\", \"FREQ.116\", \"FREQ.117\", \"FREQ.118\", \"FREQ.119\", \"FREQ.120\", \"FREQ.121\", \"FREQ.122\", \"FREQ.123\", \"FREQ.124\", \"FREQ.125\", \"FREQ.126\", \"FREQ.127\", \"FREQ.128\", \"FREQ.129\", \"FREQ.130\", \"FREQ.131\", \"FREQ.132\", \"FREQ.133\", \"FREQ.134\", \"FREQ.135\", \"FREQ.136\", \"FREQ.137\", \"FREQ.138\", \"FREQ.139\", \"FREQ.140\", \"FREQ.141\", \"FREQ.142\", \"FREQ.143\", \"FREQ.144\", \"FREQ.145\", \"FREQ.146\", \"FREQ.147\", \"FREQ.148\", \"FREQ.149\", \"FREQ.150\", \"FREQ.151\", \"FREQ.152\", \"FREQ.153\", \"FREQ.154\", \"FREQ.155\", \"FREQ.156\", \"FREQ.157\", \"FREQ.158\", \"FREQ.159\", \"FREQ.160\", \"FREQ.161\", \"FREQ.162\", \"FREQ.163\", \"FREQ.164\", \"FREQ.165\", \"FREQ.166\", \"FREQ.167\", \"FREQ.168\", \"FREQ.169\", \"FREQ.170\", \"FREQ.171\", \"FREQ.172\", \"FREQ.173\", \"FREQ.174\", \"FREQ.175\", \"FREQ.176\", \"FREQ.177\", \"FREQ.178\", \"FREQ.179\", \"FREQ.180\", \"FREQ.181\", \"FREQ.182\", \"FREQ.183\", \"FREQ.184\", \"FREQ.185\", \"FREQ.186\", \"FREQ.187\", \"FREQ.188\", \"FREQ.189\", \"FREQ.190\", \"FREQ.191\", \"FREQ.192\", \"FREQ.193\", \"FREQ.194\", \"FREQ.195\", \"FREQ.196\", \"FREQ.197\", \"FREQ.198\", \"FREQ.199\", \"FREQ.200\", \"FREQ.201\", \"FREQ.202\", \"FREQ.203\", \"FREQ.204\", \"FREQ.205\", \"FREQ.206\", \"FREQ.207\", \"FREQ.208\", \"FREQ.209\", \"FREQ.210\", \"FREQ.211\", \"FREQ.212\", \"FREQ.213\", \"FREQ.214\", \"FREQ.215\", \"FREQ.216\", \"FREQ.217\", \"FREQ.218\", \"FREQ.219\", \"FREQ.220\", \"FREQ.221\", \"FREQ.222\", \"FREQ.223\", \"FREQ.224\", \"FREQ.225\", \"FREQ.226\", \"FREQ.227\", \"FREQ.228\", \"FREQ.229\", \"FREQ.230\", \"FREQ.231\", \"FREQ.232\", \"FREQ.233\", \"FREQ.234\", \"FREQ.235\", \"FREQ.236\", \"FREQ.237\", \"FREQ.238\", \"FREQ.239\", \"FREQ.240\", \"FREQ.241\", \"FREQ.242\", \"FREQ.243\", \"FREQ.244\", \"FREQ.245\", \"FREQ.246\", \"FREQ.247\", \"FREQ.248\", \"FREQ.249\", \"FREQ.250\", \"FREQ.251\", \"FREQ.252\", \"FREQ.253\", \"FREQ.254\", \"FREQ.255\", \"FREQ.256\", \"FREQ.257\", \"FREQ.258\", \"FREQ.259\", \"FREQ.260\", \"FREQ.261\", \"FREQ.262\", \"FREQ.263\", \"FREQ.264\", \"FREQ.265\", \"FREQ.266\", \"FREQ.267\", \"FREQ.268\", \"FREQ.269\", \"FREQ.270\", \"FREQ.271\", \"FREQ.272\", \"FREQ.273\", \"FREQ.274\", \"FREQ.275\", \"FREQ.276\", \"FREQ.277\", \"FREQ.278\", \"FREQ.279\", \"FREQ.280\", \"FREQ.281\", \"FREQ.282\", \"FREQ.283\", \"FREQ.284\", \"FREQ.285\", \"FREQ.286\", \"FREQ.287\", \"FREQ.288\", \"FREQ.289\", \"FREQ.290\", \"FREQ.291\", \"FREQ.292\", \"FREQ.293\", \"FREQ.294\", \"FREQ.295\", \"FREQ.296\", \"FREQ.297\", \"FREQ.298\", \"FREQ.299\", \"FREQ.300\", \"FREQ.301\", \"FREQ.302\", \"FREQ.303\", \"FREQ.304\", \"FREQ.305\", \"FREQ.306\", \"FREQ.307\", \"FREQ.308\", \"FREQ.309\", \"FREQ.310\", \"FREQ.311\", \"FREQ.312\", \"FREQ.313\", \"FREQ.314\", \"FREQ.315\", \"FREQ.316\", \"FREQ.317\", \"FREQ.318\", \"FREQ.319\", \"FREQ.320\", \"FREQ.321\", \"FREQ.322\", \"FREQ.323\", \"FREQ.324\", \"FREQ.325\", \"FREQ.326\", \"FREQ.327\", \"FREQ.328\", \"FREQ.329\", \"FREQ.330\", \"FREQ.331\", \"FREQ.332\", \"FREQ.333\", \"FREQ.334\", \"FREQ.335\", \"FREQ.336\", \"FREQ.337\", \"FREQ.338\", \"FREQ.339\", \"FREQ.340\", \"FREQ.341\", \"FREQ.342\", \"FREQ.343\", \"FREQ.344\", \"FREQ.345\", \"FREQ.346\", \"FREQ.347\", \"FREQ.348\", \"FREQ.349\", \"FREQ.350\", \"FREQ.351\", \"FREQ.352\", \"FREQ.353\", \"FREQ.354\", \"FREQ.355\", \"FREQ.356\", \"FREQ.357\", \"FREQ.358\", \"FREQ.359\", \"FREQ.360\", \"FREQ.361\", \"FREQ.362\", \"FREQ.363\", \"FREQ.364\", \"FREQ.365\", \"FREQ.366\", \"FREQ.367\", \"FREQ.368\", \"FREQ.369\", \"FREQ.370\", \"FREQ.371\", \"FREQ.372\", \"FREQ.373\", \"FREQ.374\", \"FREQ.375\", \"FREQ.376\", \"FREQ.377\", \"FREQ.378\", \"FREQ.379\", \"FREQ.380\", \"FREQ.381\", \"FREQ.382\", \"FREQ.383\", \"FREQ.384\", \"FREQ.385\", \"FREQ.386\", \"FREQ.387\", \"FREQ.388\", \"FREQ.389\", \"FREQ.390\", \"FREQ.391\", \"FREQ.392\", \"FREQ.393\", \"FREQ.394\", \"FREQ.395\", \"FREQ.396\", \"FREQ.397\", \"FREQ.398\", \"FREQ.399\", \"FREQ.400\", \"FREQ.401\", \"FREQ.402\", \"FREQ.403\", \"FREQ.404\", \"FREQ.405\", \"FREQ.406\", \"FREQ.407\", \"FREQ.408\", \"FREQ.409\", \"FREQ.410\", \"FREQ.411\", \"FREQ.412\", \"FREQ.413\", \"FREQ.414\", \"FREQ.415\", \"FREQ.416\", \"FREQ.417\", \"FREQ.418\", \"FREQ.419\", \"FREQ.420\", \"FREQ.421\", \"FREQ.422\", \"FREQ.423\", \"FREQ.424\", \"FREQ.425\", \"FREQ.426\", \"FREQ.427\", \"FREQ.428\", \"FREQ.429\", \"FREQ.430\", \"FREQ.431\", \"FREQ.432\", \"FREQ.433\", \"FREQ.434\", \"FREQ.435\", \"FREQ.436\", \"FREQ.437\", \"FREQ.438\", \"FREQ.439\", \"FREQ.440\", \"FREQ.441\", \"FREQ.442\", \"FREQ.443\", \"FREQ.444\", \"FREQ.445\", \"FREQ.446\", \"FREQ.447\", \"FREQ.448\", \"FREQ.449\", \"FREQ.450\", \"FREQ.451\", \"FREQ.452\", \"FREQ.453\", \"FREQ.454\", \"FREQ.455\", \"FREQ.456\", \"FREQ.457\", \"FREQ.458\", \"FREQ.459\", \"FREQ.460\", \"FREQ.461\", \"FREQ.462\", \"FREQ.463\", \"FREQ.464\", \"FREQ.465\", \"FREQ.466\", \"FREQ.467\", \"FREQ.468\", \"FREQ.469\", \"FREQ.470\", \"FREQ.471\", \"FREQ.472\", \"FREQ.473\", \"FREQ.474\", \"FREQ.475\", \"FREQ.476\", \"FREQ.477\", \"FREQ.478\", \"FREQ.479\", \"FREQ.480\", \"FREQ.481\", \"FREQ.482\", \"FREQ.483\", \"FREQ.484\", \"FREQ.485\", \"FREQ.486\", \"FREQ.487\", \"FREQ.488\", \"FREQ.489\", \"FREQ.490\", \"FREQ.491\", \"FREQ.492\", \"FREQ.493\", \"FREQ.494\", \"FREQ.495\", \"FREQ.496\", \"FREQ.497\", \"FREQ.498\", \"FREQ.499\", \"FREQ.500\", \"FREQ.501\", \"FREQ.502\", \"FREQ.503\", \"FREQ.504\", \"FREQ.505\", \"FREQ.506\", \"FREQ.507\", \"FREQ.508\", \"FREQ.509\", \"FREQ.510\", \"FREQ.511\", \"FREQ.512\", \"FREQ.513\", \"FREQ.514\", \"FREQ.515\", \"FREQ.516\", \"FREQ.517\", \"FREQ.518\", \"FREQ.519\", \"FREQ.520\", \"FREQ.521\", \"FREQ.522\", \"FREQ.523\", \"FREQ.524\", \"FREQ.525\", \"FREQ.526\", \"FREQ.527\", \"FREQ.528\", \"FREQ.529\", \"FREQ.530\", \"FREQ.531\", \"FREQ.532\", \"FREQ.533\", \"FREQ.534\", \"FREQ.535\", \"FREQ.536\", \"FREQ.537\", \"FREQ.538\", \"FREQ.539\", \"FREQ.540\", \"FREQ.541\", \"FREQ.542\", \"FREQ.543\", \"FREQ.544\", \"FREQ.545\", \"FREQ.546\", \"FREQ.547\", \"FREQ.548\", \"FREQ.549\", \"FREQ.550\", \"FREQ.551\", \"FREQ.552\", \"FREQ.553\", \"FREQ.554\", \"FREQ.555\", \"FREQ.556\", \"FREQ.557\", \"FREQ.558\", \"FREQ.559\", \"FREQ.560\", \"FREQ.561\", \"FREQ.562\", \"FREQ.563\", \"FREQ.564\", \"FREQ.565\", \"FREQ.566\", \"FREQ.567\", \"FREQ.568\", \"FREQ.569\", \"FREQ.570\", \"FREQ.571\", \"FREQ.572\", \"FREQ.573\", \"FREQ.574\", \"FREQ.575\", \"FREQ.576\", \"FREQ.577\", \"FREQ.578\", \"FREQ.579\", \"FREQ.580\", \"FREQ.581\", \"FREQ.582\", \"FREQ.583\", \"FREQ.584\", \"FREQ.585\", \"FREQ.586\", \"FREQ.587\", \"FREQ.588\", \"FREQ.589\", \"FREQ.590\", \"FREQ.591\", \"FREQ.592\", \"FREQ.593\", \"FREQ.594\", \"FREQ.595\", \"FREQ.596\", \"FREQ.597\", \"FREQ.598\", \"FREQ.599\", \"FREQ.600\", \"FREQ.601\", \"FREQ.602\", \"FREQ.603\", \"FREQ.604\", \"FREQ.605\", \"FREQ.606\", \"FREQ.607\", \"FREQ.608\", \"FREQ.609\", \"FREQ.610\", \"FREQ.611\", \"FREQ.612\", \"FREQ.613\", \"FREQ.614\", \"FREQ.615\", \"FREQ.616\", \"FREQ.617\", \"FREQ.618\", \"FREQ.619\", \"FREQ.620\", \"FREQ.621\", \"FREQ.622\", \"FREQ.623\", \"FREQ.624\", \"FREQ.625\", \"FREQ.626\", \"FREQ.627\", \"FREQ.628\", \"FREQ.629\", \"FREQ.630\", \"FREQ.631\", \"FREQ.632\", \"FREQ.633\", \"FREQ.634\", \"FREQ.635\", \"FREQ.636\", \"FREQ.637\", \"FREQ.638\", \"FREQ.639\", \"FREQ.640\", \"FREQ.641\", \"FREQ.642\", \"FREQ.643\", \"FREQ.644\", \"FREQ.645\", \"FREQ.646\", \"FREQ.647\", \"FREQ.648\", \"FREQ.649\", \"FREQ.650\", \"FREQ.651\", \"FREQ.652\", \"FREQ.653\", \"FREQ.654\", \"FREQ.655\", \"FREQ.656\", \"FREQ.657\", \"FREQ.658\", \"FREQ.659\", \"FREQ.660\", \"FREQ.661\", \"FREQ.662\", \"FREQ.663\", \"FREQ.664\", \"FREQ.665\", \"FREQ.666\", \"FREQ.667\", \"FREQ.668\", \"FREQ.669\", \"FREQ.670\", \"FREQ.671\", \"FREQ.672\", \"FREQ.673\", \"FREQ.674\", \"FREQ.675\", \"FREQ.676\", \"FREQ.677\", \"FREQ.678\", \"FREQ.679\", \"FREQ.680\", \"FREQ.681\", \"FREQ.682\", \"FREQ.683\", \"FREQ.684\", \"FREQ.685\", \"FREQ.686\", \"FREQ.687\", \"FREQ.688\", \"FREQ.689\", \"FREQ.690\", \"FREQ.691\", \"FREQ.692\", \"FREQ.693\", \"FREQ.694\", \"FREQ.695\", \"FREQ.696\", \"FREQ.697\", \"FREQ.698\", \"FREQ.699\", \"FREQ.700\", \"FREQ.701\", \"FREQ.702\", \"FREQ.703\", \"FREQ.704\", \"FREQ.705\", \"FREQ.706\", \"FREQ.707\", \"FREQ.708\", \"FREQ.709\", \"FREQ.710\", \"FREQ.711\", \"FREQ.712\", \"FREQ.713\", \"FREQ.714\", \"FREQ.715\", \"FREQ.716\", \"FREQ.717\", \"FREQ.718\", \"FREQ.719\", \"FREQ.720\", \"FREQ.721\", \"FREQ.722\", \"FREQ.723\", \"FREQ.724\", \"FREQ.725\", \"FREQ.726\", \"FREQ.727\", \"FREQ.728\", \"FREQ.729\", \"FREQ.730\", \"FREQ.731\", \"FREQ.732\", \"FREQ.733\", \"FREQ.734\", \"FREQ.735\", \"FREQ.736\", \"FREQ.737\", \"FREQ.738\", \"FREQ.739\", \"FREQ.740\", \"FREQ.741\", \"FREQ.742\", \"FREQ.743\", \"FREQ.744\", \"FREQ.745\", \"FREQ.746\", \"FREQ.747\", \"FREQ.748\", \"FREQ.749\", \"FREQ.750\", \"FREQ.751\", \"FREQ.752\", \"FREQ.753\", \"FREQ.754\", \"FREQ.755\", \"FREQ.756\", \"FREQ.757\", \"FREQ.758\", \"FREQ.759\", \"FREQ.760\", \"FREQ.761\", \"FREQ.762\", \"FREQ.763\", \"FREQ.764\", \"FREQ.765\", \"FREQ.766\", \"FREQ.767\", \"FREQ.768\", \"FREQ.769\", \"FREQ.770\", \"FREQ.771\", \"FREQ.772\", \"FREQ.773\", \"FREQ.774\", \"FREQ.775\", \"FREQ.776\", \"FREQ.777\", \"FREQ.778\", \"FREQ.779\", \"FREQ.780\", \"FREQ.781\", \"FREQ.782\", \"FREQ.783\", \"FREQ.784\", \"FREQ.785\", \"FREQ.786\", \"FREQ.787\", \"FREQ.788\", \"FREQ.789\", \"FREQ.790\", \"FREQ.791\", \"FREQ.792\", \"FREQ.793\", \"FREQ.794\", \"FREQ.795\", \"FREQ.796\", \"FREQ.797\", \"FREQ.798\", \"FREQ.799\", \"FREQ.800\", \"FREQ.801\", \"FREQ.802\", \"FREQ.803\", \"FREQ.804\", \"FREQ.805\", \"FREQ.806\", \"FREQ.807\", \"FREQ.808\", \"FREQ.809\", \"FREQ.810\", \"FREQ.811\", \"FREQ.812\", \"FREQ.813\", \"FREQ.814\", \"FREQ.815\", \"FREQ.816\", \"FREQ.817\", \"FREQ.818\", \"FREQ.819\", \"FREQ.820\", \"FREQ.821\", \"FREQ.822\", \"FREQ.823\", \"FREQ.824\", \"FREQ.825\", \"FREQ.826\", \"FREQ.827\", \"FREQ.828\", \"FREQ.829\", \"FREQ.830\", \"FREQ.831\", \"FREQ.832\", \"FREQ.833\", \"FREQ.834\", \"FREQ.835\", \"FREQ.836\", \"FREQ.837\", \"FREQ.838\", \"FREQ.839\", \"FREQ.840\", \"FREQ.841\", \"FREQ.842\", \"FREQ.843\", \"FREQ.844\", \"FREQ.845\", \"FREQ.846\", \"FREQ.847\", \"FREQ.848\", \"FREQ.849\", \"FREQ.850\", \"FREQ.851\", \"FREQ.852\", \"FREQ.853\", \"FREQ.854\", \"FREQ.855\", \"FREQ.856\", \"FREQ.857\", \"FREQ.858\", \"FREQ.859\", \"FREQ.860\", \"FREQ.861\", \"FREQ.862\", \"FREQ.863\", \"FREQ.864\", \"FREQ.865\", \"FREQ.866\", \"FREQ.867\", \"FREQ.868\", \"FREQ.869\", \"FREQ.870\", \"FREQ.871\", \"FREQ.872\", \"FREQ.873\", \"FREQ.874\", \"FREQ.875\", \"FREQ.876\", \"FREQ.877\", \"FREQ.878\", \"FREQ.879\", \"FREQ.880\", \"FREQ.881\", \"FREQ.882\", \"FREQ.883\", \"FREQ.884\", \"FREQ.885\", \"FREQ.886\", \"FREQ.887\", \"FREQ.888\", \"FREQ.889\", \"FREQ.890\", \"FREQ.891\", \"FREQ.892\", \"FREQ.893\", \"FREQ.894\", \"FREQ.895\", \"FREQ.896\", \"FREQ.897\", \"FREQ.898\", \"FREQ.899\", \"FREQ.900\", \"FREQ.901\", \"FREQ.902\", \"FREQ.903\", \"FREQ.904\", \"FREQ.905\", \"FREQ.906\", \"FREQ.907\", \"FREQ.908\", \"FREQ.909\", \"FREQ.910\", \"FREQ.911\", \"FREQ.912\", \"FREQ.913\", \"FREQ.914\", \"FREQ.915\", \"FREQ.916\", \"FREQ.917\", \"FREQ.918\", \"FREQ.919\", \"FREQ.920\", \"FREQ.921\", \"FREQ.922\", \"FREQ.923\", \"FREQ.924\", \"FREQ.925\", \"FREQ.926\", \"FREQ.927\", \"FREQ.928\", \"FREQ.929\", \"FREQ.930\", \"FREQ.931\", \"FREQ.932\", \"FREQ.933\", \"FREQ.934\", \"FREQ.935\", \"FREQ.936\", \"FREQ.937\", \"FREQ.938\", \"FREQ.939\", \"FREQ.940\", \"FREQ.941\", \"FREQ.942\", \"FREQ.943\", \"FREQ.944\", \"FREQ.945\", \"FREQ.946\", \"FREQ.947\", \"FREQ.948\", \"FREQ.949\", \"FREQ.950\", \"FREQ.951\", \"FREQ.952\", \"FREQ.953\", \"FREQ.954\", \"FREQ.955\", \"FREQ.956\", \"FREQ.957\", \"FREQ.958\", \"FREQ.959\", \"FREQ.960\", \"FREQ.961\", \"FREQ.962\", \"FREQ.963\", \"FREQ.964\", \"FREQ.965\", \"FREQ.966\", \"FREQ.967\", \"FREQ.968\", \"FREQ.969\", \"FREQ.970\", \"FREQ.971\", \"FREQ.972\", \"FREQ.973\", \"FREQ.974\", \"FREQ.975\", \"FREQ.976\", \"FREQ.977\", \"FREQ.978\", \"FREQ.979\", \"FREQ.980\", \"FREQ.981\", \"FREQ.982\", \"FREQ.983\", \"FREQ.984\", \"FREQ.985\", \"FREQ.986\", \"FREQ.987\", \"FREQ.988\", \"FREQ.989\", \"FREQ.990\", \"FREQ.991\", \"FREQ.992\", \"FREQ.993\", \"FREQ.994\", \"FREQ.995\", \"FREQ.996\", \"FREQ.997\", \"FREQ.998\", \"FREQ.999\", \"FREQ.1000\", \"FREQ.1001\", \"FREQ.1002\", \"FREQ.1003\", \"FREQ.1004\", \"FREQ.1005\", \"FREQ.1006\", \"FREQ.1007\", \"FREQ.1008\", \"FREQ.1009\", \"FREQ.1010\", \"FREQ.1011\", \"FREQ.1012\", \"FREQ.1013\", \"FREQ.1014\", \"FREQ.1015\", \"FREQ.1016\", \"FREQ.1017\", \"FREQ.1018\", \"FREQ.1019\", \"FREQ.1020\", \"FREQ.1021\", \"FREQ.1022\", \"FREQ.1023\", \"FREQ.1024\", \"FREQ.1025\", \"FREQ.1026\", \"FREQ.1027\", \"FREQ.1028\", \"FREQ.1029\", \"FREQ.1030\", \"FREQ.1031\", \"FREQ.1032\", \"FREQ.1033\", \"FREQ.1034\", \"FREQ.1035\", \"FREQ.1036\", \"FREQ.1037\", \"FREQ.1038\", \"FREQ.1039\", \"FREQ.1040\", \"FREQ.1041\", \"FREQ.1042\", \"FREQ.1043\", \"FREQ.1044\", \"FREQ.1045\", \"FREQ.1046\", \"FREQ.1047\", \"FREQ.1048\", \"FREQ.1049\", \"FREQ.1050\", \"FREQ.1051\", \"FREQ.1052\", \"FREQ.1053\", \"FREQ.1054\", \"FREQ.1055\", \"FREQ.1056\", \"FREQ.1057\", \"FREQ.1058\", \"FREQ.1059\", \"FREQ.1060\", \"FREQ.1061\", \"FREQ.1062\", \"FREQ.1063\", \"FREQ.1064\", \"FREQ.1065\", \"FREQ.1066\", \"FREQ.1067\", \"FREQ.1068\", \"FREQ.1069\", \"FREQ.1070\", \"FREQ.1071\", \"FREQ.1072\", \"FREQ.1073\", \"FREQ.1074\", \"FREQ.1075\", \"FREQ.1076\", \"FREQ.1077\", \"FREQ.1078\", \"FREQ.1079\", \"FREQ.1080\", \"FREQ.1081\", \"FREQ.1082\", \"FREQ.1083\", \"FREQ.1084\", \"FREQ.1085\", \"FREQ.1086\", \"FREQ.1087\", \"FREQ.1088\", \"FREQ.1089\", \"FREQ.1090\", \"FREQ.1091\", \"FREQ.1092\", \"FREQ.1093\", \"FREQ.1094\", \"FREQ.1095\", \"FREQ.1096\", \"FREQ.1097\", \"FREQ.1098\", \"FREQ.1099\", \"FREQ.1100\", \"FREQ.1101\", \"FREQ.1102\", \"FREQ.1103\", \"FREQ.1104\", \"FREQ.1105\", \"FREQ.1106\", \"FREQ.1107\", \"FREQ.1108\", \"FREQ.1109\", \"FREQ.1110\", \"FREQ.1111\", \"FREQ.1112\", \"FREQ.1113\", \"FREQ.1114\", \"FREQ.1115\", \"FREQ.1116\", \"FREQ.1117\", \"FREQ.1118\", \"FREQ.1119\", \"FREQ.1120\", \"FREQ.1121\", \"FREQ.1122\", \"FREQ.1123\", \"FREQ.1124\", \"FREQ.1125\", \"FREQ.1126\", \"FREQ.1127\", \"FREQ.1128\", \"FREQ.1129\", \"FREQ.1130\", \"FREQ.1131\", \"FREQ.1132\", \"FREQ.1133\", \"FREQ.1134\", \"FREQ.1135\", \"FREQ.1136\", \"FREQ.1137\", \"FREQ.1138\", \"FREQ.1139\", \"FREQ.1140\", \"FREQ.1141\", \"FREQ.1142\", \"FREQ.1143\", \"FREQ.1144\", \"FREQ.1145\", \"FREQ.1146\", \"FREQ.1147\", \"FREQ.1148\", \"FREQ.1149\", \"FREQ.1150\", \"FREQ.1151\", \"FREQ.1152\", \"FREQ.1153\", \"FREQ.1154\", \"FREQ.1155\", \"FREQ.1156\", \"FREQ.1157\", \"FREQ.1158\", \"FREQ.1159\", \"FREQ.1160\", \"FREQ.1161\", \"FREQ.1162\", \"FREQ.1163\", \"FREQ.1164\", \"FREQ.1165\", \"FREQ.1166\", \"FREQ.1167\", \"FREQ.1168\", \"FREQ.1169\", \"FREQ.1170\", \"FREQ.1171\", \"FREQ.1172\", \"FREQ.1173\", \"FREQ.1174\", \"FREQ.1175\", \"FREQ.1176\", \"FREQ.1177\", \"FREQ.1178\", \"FREQ.1179\", \"FREQ.1180\", \"FREQ.1181\", \"FREQ.1182\", \"FREQ.1183\", \"FREQ.1184\", \"FREQ.1185\", \"FREQ.1186\", \"FREQ.1187\", \"FREQ.1188\", \"FREQ.1189\", \"FREQ.1190\", \"FREQ.1191\", \"FREQ.1192\", \"FREQ.1193\", \"FREQ.1194\", \"FREQ.1195\", \"FREQ.1196\", \"FREQ.1197\", \"FREQ.1198\", \"FREQ.1199\", \"FREQ.1200\", \"FREQ.1201\", \"FREQ.1202\", \"FREQ.1203\", \"FREQ.1204\", \"FREQ.1205\", \"FREQ.1206\", \"FREQ.1207\", \"FREQ.1208\", \"FREQ.1209\", \"FREQ.1210\", \"FREQ.1211\", \"FREQ.1212\", \"FREQ.1213\", \"FREQ.1214\", \"FREQ.1215\", \"FREQ.1216\", \"FREQ.1217\", \"FREQ.1218\", \"FREQ.1219\", \"FREQ.1220\", \"FREQ.1221\", \"FREQ.1222\", \"FREQ.1223\", \"FREQ.1224\", \"FREQ.1225\", \"FREQ.1226\", \"FREQ.1227\", \"FREQ.1228\", \"FREQ.1229\", \"FREQ.1230\", \"FREQ.1231\", \"FREQ.1232\", \"FREQ.1233\", \"FREQ.1234\", \"FREQ.1235\", \"FREQ.1236\", \"FREQ.1237\", \"FREQ.1238\", \"FREQ.1239\", \"FREQ.1240\", \"FREQ.1241\", \"FREQ.1242\", \"FREQ.1243\", \"FREQ.1244\", \"FREQ.1245\", \"FREQ.1246\", \"FREQ.1247\", \"FREQ.1248\", \"FREQ.1249\", \"FREQ.1250\", \"FREQ.1251\", \"FREQ.1252\", \"FREQ.1253\", \"FREQ.1254\", \"FREQ.1255\", \"FREQ.1256\", \"FREQ.1257\", \"FREQ.1258\", \"FREQ.1259\", \"FREQ.1260\", \"FREQ.1261\", \"FREQ.1262\", \"FREQ.1263\", \"FREQ.1264\", \"FREQ.1265\", \"FREQ.1266\", \"FREQ.1267\", \"FREQ.1268\", \"FREQ.1269\", \"FREQ.1270\", \"FREQ.1271\", \"FREQ.1272\", \"FREQ.1273\", \"FREQ.1274\", \"FREQ.1275\", \"FREQ.1276\", \"FREQ.1277\", \"FREQ.1278\", \"FREQ.1279\", \"FREQ.1280\", \"FREQ.1281\", \"FREQ.1282\", \"FREQ.1283\", \"FREQ.1284\", \"FREQ.1285\", \"FREQ.1286\", \"FREQ.1287\", \"FREQ.1288\", \"FREQ.1289\", \"FREQ.1290\", \"FREQ.1291\", \"FREQ.1292\", \"FREQ.1293\", \"FREQ.1294\", \"FREQ.1295\", \"FREQ.1296\", \"FREQ.1297\", \"FREQ.1298\", \"FREQ.1299\", \"FREQ.1300\", \"FREQ.1301\", \"FREQ.1302\", \"FREQ.1303\", \"FREQ.1304\", \"FREQ.1305\", \"FREQ.1306\", \"FREQ.1307\", \"FREQ.1308\", \"FREQ.1309\", \"FREQ.1310\", \"FREQ.1311\", \"FREQ.1312\", \"FREQ.1313\", \"FREQ.1314\", \"FREQ.1315\", \"FREQ.1316\", \"FREQ.1317\", \"FREQ.1318\", \"FREQ.1319\", \"FREQ.1320\", \"FREQ.1321\", \"FREQ.1322\", \"FREQ.1323\", \"FREQ.1324\", \"FREQ.1325\", \"FREQ.1326\", \"FREQ.1327\", \"FREQ.1328\", \"FREQ.1329\", \"FREQ.1330\", \"FREQ.1331\", \"FREQ.1332\", \"FREQ.1333\", \"FREQ.1334\", \"FREQ.1335\", \"FREQ.1336\", \"FREQ.1337\", \"FREQ.1338\", \"FREQ.1339\", \"FREQ.1340\", \"FREQ.1341\", \"FREQ.1342\", \"FREQ.1343\", \"FREQ.1344\", \"FREQ.1345\", \"FREQ.1346\", \"FREQ.1347\", \"FREQ.1348\", \"FREQ.1349\", \"FREQ.1350\", \"FREQ.1351\", \"FREQ.1352\", \"FREQ.1353\", \"FREQ.1354\", \"FREQ.1355\", \"FREQ.1356\", \"FREQ.1357\", \"FREQ.1358\", \"FREQ.1359\", \"FREQ.1360\", \"FREQ.1361\", \"FREQ.1362\", \"FREQ.1363\", \"FREQ.1364\", \"FREQ.1365\", \"FREQ.1366\", \"FREQ.1367\", \"FREQ.1368\", \"FREQ.1369\", \"FREQ.1370\", \"FREQ.1371\", \"FREQ.1372\", \"FREQ.1373\", \"FREQ.1374\", \"FREQ.1375\", \"FREQ.1376\", \"FREQ.1377\", \"FREQ.1378\", \"FREQ.1379\", \"FREQ.1380\", \"FREQ.1381\", \"FREQ.1382\", \"FREQ.1383\", \"FREQ.1384\", \"FREQ.1385\", \"FREQ.1386\", \"FREQ.1387\", \"FREQ.1388\", \"FREQ.1389\", \"FREQ.1390\", \"FREQ.1391\", \"FREQ.1392\", \"FREQ.1393\", \"FREQ.1394\", \"FREQ.1395\", \"FREQ.1396\", \"FREQ.1397\", \"FREQ.1398\", \"FREQ.1399\", \"FREQ.1400\", \"FREQ.1401\", \"FREQ.1402\", \"FREQ.1403\", \"FREQ.1404\", \"FREQ.1405\", \"FREQ.1406\", \"FREQ.1407\", \"FREQ.1408\", \"FREQ.1409\", \"FREQ.1410\", \"FREQ.1411\", \"FREQ.1412\", \"FREQ.1413\", \"FREQ.1414\", \"FREQ.1415\", \"FREQ.1416\", \"FREQ.1417\", \"FREQ.1418\", \"FREQ.1419\", \"FREQ.1420\", \"FREQ.1421\", \"FREQ.1422\", \"FREQ.1423\", \"FREQ.1424\", \"FREQ.1425\", \"FREQ.1426\", \"FREQ.1427\", \"FREQ.1428\", \"FREQ.1429\", \"FREQ.1430\", \"FREQ.1431\", \"FREQ.1432\", \"FREQ.1433\", \"FREQ.1434\", \"FREQ.1435\", \"FREQ.1436\", \"FREQ.1437\", \"FREQ.1438\", \"FREQ.1439\", \"FREQ.1440\", \"FREQ.1441\", \"FREQ.1442\", \"FREQ.1443\", \"FREQ.1444\", \"FREQ.1445\", \"FREQ.1446\", \"FREQ.1447\", \"FREQ.1448\", \"FREQ.1449\", \"FREQ.1450\", \"FREQ.1451\", \"FREQ.1452\", \"FREQ.1453\", \"FREQ.1454\", \"FREQ.1455\", \"FREQ.1456\", \"FREQ.1457\", \"FREQ.1458\", \"FREQ.1459\", \"FREQ.1460\", \"FREQ.1461\", \"FREQ.1462\", \"FREQ.1463\", \"FREQ.1464\", \"FREQ.1465\", \"FREQ.1466\", \"FREQ.1467\", \"FREQ.1468\", \"FREQ.1469\", \"FREQ.1470\", \"FREQ.1471\", \"FREQ.1472\", \"FREQ.1473\", \"FREQ.1474\", \"FREQ.1475\", \"FREQ.1476\", \"FREQ.1477\", \"FREQ.1478\", \"FREQ.1479\", \"FREQ.1480\", \"FREQ.1481\", \"FREQ.1482\", \"FREQ.1483\", \"FREQ.1484\", \"FREQ.1485\", \"FREQ.1486\", \"FREQ.1487\", \"FREQ.1488\", \"FREQ.1489\", \"FREQ.1490\", \"FREQ.1491\", \"FREQ.1492\", \"FREQ.1493\", \"FREQ.1494\", \"FREQ.1495\", \"FREQ.1496\", \"FREQ.1497\", \"FREQ.1498\", \"FREQ.1499\", \"FREQ.1500\", \"FREQ.1501\", \"FREQ.1502\", \"FREQ.1503\", \"FREQ.1504\", \"FREQ.1505\", \"FREQ.1506\", \"FREQ.1507\", \"FREQ.1508\", \"FREQ.1509\", \"FREQ.1510\", \"FREQ.1511\", \"FREQ.1512\", \"FREQ.1513\", \"FREQ.1514\", \"FREQ.1515\", \"FREQ.1516\", \"FREQ.1517\", \"FREQ.1518\", \"FREQ.1519\", \"FREQ.1520\", \"FREQ.1521\", \"FREQ.1522\", \"FREQ.1523\", \"FREQ.1524\", \"FREQ.1525\", \"FREQ.1526\", \"FREQ.1527\", \"FREQ.1528\", \"FREQ.1529\", \"FREQ.1530\", \"FREQ.1531\", \"FREQ.1532\", \"FREQ.1533\", \"FREQ.1534\", \"FREQ.1535\", \"FREQ.1536\", \"FREQ.1537\", \"FREQ.1538\", \"FREQ.1539\", \"FREQ.1540\", \"FREQ.1541\", \"FREQ.1542\", \"FREQ.1543\", \"FREQ.1544\", \"FREQ.1545\", \"FREQ.1546\", \"FREQ.1547\", \"FREQ.1548\", \"FREQ.1549\", \"FREQ.1550\", \"FREQ.1551\", \"FREQ.1552\", \"FREQ.1553\", \"FREQ.1554\", \"FREQ.1555\", \"FREQ.1556\", \"FREQ.1557\", \"FREQ.1558\", \"FREQ.1559\", \"FREQ.1560\", \"FREQ.1561\", \"FREQ.1562\", \"FREQ.1563\", \"FREQ.1564\", \"FREQ.1565\", \"FREQ.1566\", \"FREQ.1567\", \"FREQ.1568\", \"FREQ.1569\", \"FREQ.1570\", \"FREQ.1571\", \"FREQ.1572\", \"FREQ.1573\", \"FREQ.1574\", \"FREQ.1575\", \"FREQ.1576\", \"FREQ.1577\", \"FREQ.1578\", \"FREQ.1579\", \"FREQ.1580\", \"FREQ.1581\", \"FREQ.1582\", \"FREQ.1583\", \"FREQ.1584\", \"FREQ.1585\", \"FREQ.1586\", \"FREQ.1587\", \"FREQ.1588\", \"FREQ.1589\", \"FREQ.1590\", \"FREQ.1591\", \"FREQ.1592\", \"FREQ.1593\", \"FREQ.1594\", \"FREQ.1595\", \"FREQ.1596\", \"FREQ.1597\", \"FREQ.1598\", \"FREQ.1599\", \"LABEL\" FROM (SELECT * FROM \"EXOPLANETS\".\"EXOTRAIN_FFT\") AS \"DT_0\") AS \"DT_2\")\n"
     ]
    },
    {
     "name": "stderr",
     "output_type": "stream",
     "text": [
      "INFO:hana_ml.ml_base:Executing SQL: DROP TABLE \"#PAL_RANDOM_FOREST_PARAM_TBL_0\"\n",
      "INFO:hana_ml.ml_base:Executing SQL: CREATE LOCAL TEMPORARY COLUMN TABLE \"#PAL_RANDOM_FOREST_PARAM_TBL_0\" (\n",
      "    \"PARAM_NAME\" NVARCHAR(5000),\n",
      "    \"INT_VALUE\" INTEGER,\n",
      "    \"DOUBLE_VALUE\" DOUBLE,\n",
      "    \"STRING_VALUE\" NVARCHAR(5000)\n",
      ")\n",
      "INFO:hana_ml.ml_base:Calling executemany with SQL: INSERT INTO \"#PAL_RANDOM_FOREST_PARAM_TBL_0\" VALUES (?, ?, ?, ?)\n",
      "and values: [('TREES_NUM', 1000, None, None), ('TRY_NUM', 1499, None, None), ('NODE_SIZE', 10, None, None), ('SPLIT_THRESHOLD', None, 1e-05, None), ('CALCULATE_OOB', True, None, None), ('SEED', 2, None, None), ('THREAD_RATIO', None, 0.8, None), ('ALLOW_MISSING_DEPENDENT', True, None, None), ('HAS_ID', True, None, None)]\n",
      "INFO:hana_ml.ml_base:Executing SQL: DROP TABLE \"#PAL_RANDOM_FOREST_MODEL_TBL_0\"\n",
      "INFO:hana_ml.ml_base:Executing SQL: CREATE LOCAL TEMPORARY COLUMN TABLE \"#PAL_RANDOM_FOREST_MODEL_TBL_0\" (\n",
      "    \"ROW_INDEX\" INTEGER,\n",
      "    \"TREE_INDEX\" INTEGER,\n",
      "    \"MODEL_CONTENT\" NVARCHAR(5000)\n",
      ")\n",
      "INFO:hana_ml.ml_base:Executing SQL: DROP TABLE \"#PAL_RANDOM_FOREST_VAR_IMPORTANCE_TBL_0\"\n",
      "INFO:hana_ml.ml_base:Executing SQL: CREATE LOCAL TEMPORARY COLUMN TABLE \"#PAL_RANDOM_FOREST_VAR_IMPORTANCE_TBL_0\" (\n",
      "    \"VARIABLE_NAME\" NVARCHAR(200),\n",
      "    \"IMPORTANCE\" DOUBLE\n",
      ")\n",
      "INFO:hana_ml.ml_base:Executing SQL: DROP TABLE \"#PAL_RANDOM_FOREST_OOB_ERR_TBL_0\"\n",
      "INFO:hana_ml.ml_base:Executing SQL: CREATE LOCAL TEMPORARY COLUMN TABLE \"#PAL_RANDOM_FOREST_OOB_ERR_TBL_0\" (\n",
      "    \"TREE_INDEX\" INTEGER,\n",
      "    \"ERROR\" DOUBLE\n",
      ")\n",
      "INFO:hana_ml.ml_base:Executing SQL: DROP TABLE \"#PAL_RANDOM_FOREST_CM_TBL_0\"\n",
      "INFO:hana_ml.ml_base:Executing SQL: CREATE LOCAL TEMPORARY COLUMN TABLE \"#PAL_RANDOM_FOREST_CM_TBL_0\" (\n",
      "    \"ACTUAL_CLASS\" NVARCHAR(1000),\n",
      "    \"PREDICTED_CLASS\" NVARCHAR(1000),\n",
      "    \"COUNT\" INTEGER\n",
      ")\n",
      "INFO:hana_ml.ml_base:Executing SQL: CALL _SYS_AFL.\"PAL_RANDOM_DECISION_TREES\"(\n",
      "    \"#PAL_RANDOM_FOREST_DATA_TBL_0\",\n",
      "    \"#PAL_RANDOM_FOREST_PARAM_TBL_0\",\n",
      "    \"#PAL_RANDOM_FOREST_MODEL_TBL_0\",\n",
      "    \"#PAL_RANDOM_FOREST_VAR_IMPORTANCE_TBL_0\",\n",
      "    \"#PAL_RANDOM_FOREST_OOB_ERR_TBL_0\",\n",
      "    \"#PAL_RANDOM_FOREST_CM_TBL_0\"\n",
      ") WITH OVERVIEW\n"
     ]
    }
   ],
   "source": [
    "rfc.fit(train_df,features= columns_to_keep, key= 'ID', label='LABEL')"
   ]
  },
  {
   "cell_type": "code",
   "execution_count": 23,
   "metadata": {},
   "outputs": [
    {
     "data": {
      "text/html": [
       "<div>\n",
       "<style scoped>\n",
       "    .dataframe tbody tr th:only-of-type {\n",
       "        vertical-align: middle;\n",
       "    }\n",
       "\n",
       "    .dataframe tbody tr th {\n",
       "        vertical-align: top;\n",
       "    }\n",
       "\n",
       "    .dataframe thead th {\n",
       "        text-align: right;\n",
       "    }\n",
       "</style>\n",
       "<table border=\"1\" class=\"dataframe\">\n",
       "  <thead>\n",
       "    <tr style=\"text-align: right;\">\n",
       "      <th></th>\n",
       "      <th>ACTUAL_CLASS</th>\n",
       "      <th>PREDICTED_CLASS</th>\n",
       "      <th>COUNT</th>\n",
       "    </tr>\n",
       "  </thead>\n",
       "  <tbody>\n",
       "    <tr>\n",
       "      <th>0</th>\n",
       "      <td>2</td>\n",
       "      <td>2</td>\n",
       "      <td>0</td>\n",
       "    </tr>\n",
       "    <tr>\n",
       "      <th>1</th>\n",
       "      <td>2</td>\n",
       "      <td>1</td>\n",
       "      <td>37</td>\n",
       "    </tr>\n",
       "    <tr>\n",
       "      <th>2</th>\n",
       "      <td>1</td>\n",
       "      <td>2</td>\n",
       "      <td>0</td>\n",
       "    </tr>\n",
       "    <tr>\n",
       "      <th>3</th>\n",
       "      <td>1</td>\n",
       "      <td>1</td>\n",
       "      <td>5050</td>\n",
       "    </tr>\n",
       "  </tbody>\n",
       "</table>\n",
       "</div>"
      ],
      "text/plain": [
       "  ACTUAL_CLASS PREDICTED_CLASS  COUNT\n",
       "0            2               2      0\n",
       "1            2               1     37\n",
       "2            1               2      0\n",
       "3            1               1   5050"
      ]
     },
     "execution_count": 23,
     "metadata": {},
     "output_type": "execute_result"
    }
   ],
   "source": [
    "rfc.confusion_matrix_.collect()"
   ]
  },
  {
   "cell_type": "code",
   "execution_count": 24,
   "metadata": {},
   "outputs": [],
   "source": [
    "outputdir = '/Users/d022166/tmp/artifacts'\n",
    "jar_location = '/Users/d022166/Downloads/distribution-master/containers/jupyterlab/hanaml-jupyterlab/base-image/utils/mta_archive_builder-1.1.19.jar'\n",
    "version = '0.0.1'"
   ]
  },
  {
   "cell_type": "code",
   "execution_count": 25,
   "metadata": {},
   "outputs": [
    {
     "name": "stderr",
     "output_type": "stream",
     "text": [
      "ERROR:hana_ml_artifact.sql_processor:No sql entries found for algorithm: None and function None\n"
     ]
    },
    {
     "ename": "TypeError",
     "evalue": "'NoneType' object is not iterable",
     "output_type": "error",
     "traceback": [
      "\u001b[0;31m---------------------------------------------------------------------------\u001b[0m",
      "\u001b[0;31mTypeError\u001b[0m                                 Traceback (most recent call last)",
      "\u001b[0;32m<ipython-input-25-5537f39c1e81>\u001b[0m in \u001b[0;36m<module>\u001b[0;34m\u001b[0m\n\u001b[0;32m----> 1\u001b[0;31m \u001b[0martifact_generator\u001b[0m \u001b[0;34m=\u001b[0m \u001b[0mGenerator\u001b[0m\u001b[0;34m(\u001b[0m\u001b[0mex_id\u001b[0m\u001b[0;34m,\u001b[0m \u001b[0mversion\u001b[0m\u001b[0;34m,\u001b[0m \u001b[0;34m'CROSS_SCHEMA_SANDBOX'\u001b[0m\u001b[0;34m,\u001b[0m \u001b[0mconn\u001b[0m\u001b[0;34m,\u001b[0m \u001b[0moutputdir\u001b[0m\u001b[0;34m)\u001b[0m\u001b[0;34m\u001b[0m\u001b[0;34m\u001b[0m\u001b[0m\n\u001b[0m",
      "\u001b[0;32m~/SAP/GitRepos/HANAML/artifact/src/hana_ml_artifact/generator.py\u001b[0m in \u001b[0;36m__init__\u001b[0;34m(self, project_name, version, grant_service, connection_context, outputdir, generation_merge_type, generation_group_type, sda_grant_service, remote_source)\u001b[0m\n\u001b[1;32m     31\u001b[0m         \u001b[0mself\u001b[0m\u001b[0;34m.\u001b[0m\u001b[0m_init_config\u001b[0m\u001b[0;34m(\u001b[0m\u001b[0mproject_name\u001b[0m\u001b[0;34m,\u001b[0m \u001b[0mversion\u001b[0m\u001b[0;34m,\u001b[0m \u001b[0mgrant_service\u001b[0m\u001b[0;34m,\u001b[0m \u001b[0msda_grant_service\u001b[0m\u001b[0;34m,\u001b[0m \u001b[0mremote_source\u001b[0m\u001b[0;34m,\u001b[0m \u001b[0mgeneration_merge_type\u001b[0m\u001b[0;34m,\u001b[0m \u001b[0mgeneration_group_type\u001b[0m\u001b[0;34m,\u001b[0m \u001b[0moutputdir\u001b[0m\u001b[0;34m)\u001b[0m\u001b[0;34m\u001b[0m\u001b[0;34m\u001b[0m\u001b[0m\n\u001b[1;32m     32\u001b[0m         \u001b[0msql_processor\u001b[0m \u001b[0;34m=\u001b[0m \u001b[0mSqlProcessor\u001b[0m\u001b[0;34m(\u001b[0m\u001b[0mself\u001b[0m\u001b[0;34m.\u001b[0m\u001b[0mconfig\u001b[0m\u001b[0;34m)\u001b[0m\u001b[0;34m\u001b[0m\u001b[0;34m\u001b[0m\u001b[0m\n\u001b[0;32m---> 33\u001b[0;31m         \u001b[0msql_processor\u001b[0m\u001b[0;34m.\u001b[0m\u001b[0mparse_sql_trace\u001b[0m\u001b[0;34m(\u001b[0m\u001b[0mconnection_context\u001b[0m\u001b[0;34m)\u001b[0m\u001b[0;34m\u001b[0m\u001b[0;34m\u001b[0m\u001b[0m\n\u001b[0m\u001b[1;32m     34\u001b[0m \u001b[0;34m\u001b[0m\u001b[0m\n\u001b[1;32m     35\u001b[0m     \u001b[0;32mdef\u001b[0m \u001b[0mgenerate_hana\u001b[0m\u001b[0;34m(\u001b[0m\u001b[0mself\u001b[0m\u001b[0;34m,\u001b[0m \u001b[0mbase_layer\u001b[0m\u001b[0;34m=\u001b[0m\u001b[0;32mTrue\u001b[0m\u001b[0;34m,\u001b[0m \u001b[0mconsumption_layer\u001b[0m\u001b[0;34m=\u001b[0m\u001b[0;32mTrue\u001b[0m\u001b[0;34m,\u001b[0m \u001b[0msda_data_source_mapping_only\u001b[0m\u001b[0;34m=\u001b[0m\u001b[0;32mTrue\u001b[0m\u001b[0;34m)\u001b[0m\u001b[0;34m:\u001b[0m\u001b[0;34m\u001b[0m\u001b[0;34m\u001b[0m\u001b[0m\n",
      "\u001b[0;32m~/SAP/GitRepos/HANAML/artifact/src/hana_ml_artifact/sql_processor.py\u001b[0m in \u001b[0;36mparse_sql_trace\u001b[0;34m(self, connection_context)\u001b[0m\n\u001b[1;32m     65\u001b[0m         \u001b[0msql_trace\u001b[0m \u001b[0;34m=\u001b[0m \u001b[0mconnection_context\u001b[0m\u001b[0;34m.\u001b[0m\u001b[0msql_tracer\u001b[0m\u001b[0;34m.\u001b[0m\u001b[0mget_sql_trace\u001b[0m\u001b[0;34m(\u001b[0m\u001b[0;34m)\u001b[0m\u001b[0;34m\u001b[0m\u001b[0;34m\u001b[0m\u001b[0m\n\u001b[1;32m     66\u001b[0m         \u001b[0;32mif\u001b[0m \u001b[0msql_trace\u001b[0m\u001b[0;34m:\u001b[0m\u001b[0;34m\u001b[0m\u001b[0;34m\u001b[0m\u001b[0m\n\u001b[0;32m---> 67\u001b[0;31m             \u001b[0mself\u001b[0m\u001b[0;34m.\u001b[0m\u001b[0m_process_sql\u001b[0m\u001b[0;34m(\u001b[0m\u001b[0msql_trace\u001b[0m\u001b[0;34m)\u001b[0m\u001b[0;34m\u001b[0m\u001b[0;34m\u001b[0m\u001b[0m\n\u001b[0m\u001b[1;32m     68\u001b[0m         \u001b[0;32melse\u001b[0m\u001b[0;34m:\u001b[0m\u001b[0;34m\u001b[0m\u001b[0;34m\u001b[0m\u001b[0m\n\u001b[1;32m     69\u001b[0m             raise ValueError('No sql trace found. '\n",
      "\u001b[0;32m~/SAP/GitRepos/HANAML/artifact/src/hana_ml_artifact/sql_processor.py\u001b[0m in \u001b[0;36m_process_sql\u001b[0;34m(self, sql_trace)\u001b[0m\n\u001b[1;32m     92\u001b[0m \u001b[0;34m\u001b[0m\u001b[0m\n\u001b[1;32m     93\u001b[0m                         \u001b[0;31m# build synonyms\u001b[0m\u001b[0;34m\u001b[0m\u001b[0;34m\u001b[0m\u001b[0;34m\u001b[0m\u001b[0m\n\u001b[0;32m---> 94\u001b[0;31m                         \u001b[0msynonyms\u001b[0m \u001b[0;34m=\u001b[0m \u001b[0mself\u001b[0m\u001b[0;34m.\u001b[0m\u001b[0m_build_synonyms\u001b[0m\u001b[0;34m(\u001b[0m\u001b[0msql_trace\u001b[0m\u001b[0;34m[\u001b[0m\u001b[0malgo\u001b[0m\u001b[0;34m]\u001b[0m\u001b[0;34m[\u001b[0m\u001b[0mfunction\u001b[0m\u001b[0;34m]\u001b[0m\u001b[0;34m[\u001b[0m\u001b[0mself\u001b[0m\u001b[0;34m.\u001b[0m\u001b[0mTRACE_KEY_FUNCTION\u001b[0m\u001b[0;34m]\u001b[0m\u001b[0;34m,\u001b[0m \u001b[0minput_tables\u001b[0m\u001b[0;34m)\u001b[0m\u001b[0;34m\u001b[0m\u001b[0;34m\u001b[0m\u001b[0m\n\u001b[0m\u001b[1;32m     95\u001b[0m                         \u001b[0msql_entries\u001b[0m \u001b[0;34m=\u001b[0m \u001b[0mself\u001b[0m\u001b[0;34m.\u001b[0m\u001b[0m_add_input_table_statements\u001b[0m\u001b[0;34m(\u001b[0m\u001b[0msql_entries\u001b[0m\u001b[0;34m,\u001b[0m \u001b[0minput_tables\u001b[0m\u001b[0;34m)\u001b[0m\u001b[0;34m\u001b[0m\u001b[0;34m\u001b[0m\u001b[0m\n\u001b[1;32m     96\u001b[0m                         \u001b[0msql_entries\u001b[0m \u001b[0;34m=\u001b[0m \u001b[0mself\u001b[0m\u001b[0;34m.\u001b[0m\u001b[0m_add_output_table_statements\u001b[0m\u001b[0;34m(\u001b[0m\u001b[0msql_entries\u001b[0m\u001b[0;34m,\u001b[0m \u001b[0moutput_tables\u001b[0m\u001b[0;34m)\u001b[0m\u001b[0;34m\u001b[0m\u001b[0;34m\u001b[0m\u001b[0m\n",
      "\u001b[0;32m~/SAP/GitRepos/HANAML/artifact/src/hana_ml_artifact/sql_processor.py\u001b[0m in \u001b[0;36m_build_synonyms\u001b[0;34m(self, functions, input_tables)\u001b[0m\n\u001b[1;32m    166\u001b[0m                 \u001b[0msynonyms\u001b[0m\u001b[0;34m.\u001b[0m\u001b[0mappend\u001b[0m\u001b[0;34m(\u001b[0m\u001b[0mfunction_synonym\u001b[0m\u001b[0;34m)\u001b[0m\u001b[0;34m\u001b[0m\u001b[0;34m\u001b[0m\u001b[0m\n\u001b[1;32m    167\u001b[0m         \u001b[0;32mfor\u001b[0m \u001b[0minput_table\u001b[0m \u001b[0;32min\u001b[0m \u001b[0minput_tables\u001b[0m\u001b[0;34m:\u001b[0m\u001b[0;34m\u001b[0m\u001b[0;34m\u001b[0m\u001b[0m\n\u001b[0;32m--> 168\u001b[0;31m             \u001b[0mdataset_synonym\u001b[0m \u001b[0;34m=\u001b[0m \u001b[0mself\u001b[0m\u001b[0;34m.\u001b[0m\u001b[0m_generate_synonym_for_input\u001b[0m\u001b[0;34m(\u001b[0m\u001b[0minput_table\u001b[0m\u001b[0;34m)\u001b[0m\u001b[0;34m\u001b[0m\u001b[0;34m\u001b[0m\u001b[0m\n\u001b[0m\u001b[1;32m    169\u001b[0m             \u001b[0;32mif\u001b[0m \u001b[0mdataset_synonym\u001b[0m\u001b[0;34m:\u001b[0m\u001b[0;34m\u001b[0m\u001b[0;34m\u001b[0m\u001b[0m\n\u001b[1;32m    170\u001b[0m                 \u001b[0minput_table\u001b[0m\u001b[0;34m[\u001b[0m\u001b[0mself\u001b[0m\u001b[0;34m.\u001b[0m\u001b[0mSYNONYM_STRUCT_KEY_SYNONYM\u001b[0m\u001b[0;34m]\u001b[0m \u001b[0;34m=\u001b[0m \u001b[0mdataset_synonym\u001b[0m\u001b[0;34m[\u001b[0m\u001b[0mself\u001b[0m\u001b[0;34m.\u001b[0m\u001b[0mSYNONYM_STRUCT_KEY_SYNONYM\u001b[0m\u001b[0;34m]\u001b[0m\u001b[0;34m\u001b[0m\u001b[0;34m\u001b[0m\u001b[0m\n",
      "\u001b[0;32m~/SAP/GitRepos/HANAML/artifact/src/hana_ml_artifact/sql_processor.py\u001b[0m in \u001b[0;36m_generate_synonym_for_input\u001b[0;34m(self, input_table)\u001b[0m\n\u001b[1;32m    185\u001b[0m                         \u001b[0mself\u001b[0m\u001b[0;34m.\u001b[0m\u001b[0mTRACE_KEY_SCHEMA\u001b[0m\u001b[0;34m:\u001b[0m \u001b[0mschema\u001b[0m\u001b[0;34m\u001b[0m\u001b[0;34m\u001b[0m\u001b[0m\n\u001b[1;32m    186\u001b[0m                     }\n\u001b[0;32m--> 187\u001b[0;31m                     \u001b[0msynonym\u001b[0m \u001b[0;34m=\u001b[0m \u001b[0mself\u001b[0m\u001b[0;34m.\u001b[0m\u001b[0m_generate_synonym_struct\u001b[0m\u001b[0;34m(\u001b[0m\u001b[0mdb_object\u001b[0m\u001b[0;34m,\u001b[0m \u001b[0mself\u001b[0m\u001b[0;34m.\u001b[0m\u001b[0mTRACE_KEY_DATASET\u001b[0m\u001b[0;34m)\u001b[0m\u001b[0;34m\u001b[0m\u001b[0;34m\u001b[0m\u001b[0m\n\u001b[0m\u001b[1;32m    188\u001b[0m                     \u001b[0;32mreturn\u001b[0m \u001b[0msynonym\u001b[0m\u001b[0;34m\u001b[0m\u001b[0;34m\u001b[0m\u001b[0m\n\u001b[1;32m    189\u001b[0m         \u001b[0;32mreturn\u001b[0m \u001b[0;32mNone\u001b[0m\u001b[0;34m\u001b[0m\u001b[0;34m\u001b[0m\u001b[0m\n",
      "\u001b[0;32m~/SAP/GitRepos/HANAML/artifact/src/hana_ml_artifact/sql_processor.py\u001b[0m in \u001b[0;36m_generate_synonym_struct\u001b[0;34m(self, db_object, synonym_type)\u001b[0m\n\u001b[1;32m    192\u001b[0m         \u001b[0;32mif\u001b[0m \u001b[0mdb_object\u001b[0m\u001b[0;34m:\u001b[0m\u001b[0;34m\u001b[0m\u001b[0;34m\u001b[0m\u001b[0m\n\u001b[1;32m    193\u001b[0m             \u001b[0;32mif\u001b[0m \u001b[0mself\u001b[0m\u001b[0;34m.\u001b[0m\u001b[0mTRACE_KEY_NAME\u001b[0m \u001b[0;32min\u001b[0m \u001b[0mdb_object\u001b[0m \u001b[0;32mand\u001b[0m \u001b[0mself\u001b[0m\u001b[0;34m.\u001b[0m\u001b[0mTRACE_KEY_SCHEMA\u001b[0m \u001b[0;32min\u001b[0m \u001b[0mdb_object\u001b[0m\u001b[0;34m:\u001b[0m\u001b[0;34m\u001b[0m\u001b[0;34m\u001b[0m\u001b[0m\n\u001b[0;32m--> 194\u001b[0;31m                 \u001b[0mobject_name\u001b[0m\u001b[0;34m,\u001b[0m \u001b[0mobject_schema\u001b[0m\u001b[0;34m,\u001b[0m \u001b[0mobject_synonym\u001b[0m \u001b[0;34m=\u001b[0m \u001b[0mself\u001b[0m\u001b[0;34m.\u001b[0m\u001b[0m_generate_synonym\u001b[0m\u001b[0;34m(\u001b[0m\u001b[0mdb_object\u001b[0m\u001b[0;34m[\u001b[0m\u001b[0mself\u001b[0m\u001b[0;34m.\u001b[0m\u001b[0mTRACE_KEY_NAME\u001b[0m\u001b[0;34m]\u001b[0m\u001b[0;34m,\u001b[0m \u001b[0mdb_object\u001b[0m\u001b[0;34m[\u001b[0m\u001b[0mself\u001b[0m\u001b[0;34m.\u001b[0m\u001b[0mTRACE_KEY_SCHEMA\u001b[0m\u001b[0;34m]\u001b[0m\u001b[0;34m)\u001b[0m\u001b[0;34m\u001b[0m\u001b[0;34m\u001b[0m\u001b[0m\n\u001b[0m\u001b[1;32m    195\u001b[0m                 synonym = {\n\u001b[1;32m    196\u001b[0m                     \u001b[0mself\u001b[0m\u001b[0;34m.\u001b[0m\u001b[0mSYNONYM_STRUCT_KEY_OBJECT\u001b[0m \u001b[0;34m:\u001b[0m \u001b[0mobject_name\u001b[0m\u001b[0;34m,\u001b[0m\u001b[0;34m\u001b[0m\u001b[0;34m\u001b[0m\u001b[0m\n",
      "\u001b[0;32m~/SAP/GitRepos/HANAML/artifact/src/hana_ml_artifact/sql_processor.py\u001b[0m in \u001b[0;36m_generate_synonym\u001b[0;34m(self, db_object, schema)\u001b[0m\n\u001b[1;32m    203\u001b[0m \u001b[0;34m\u001b[0m\u001b[0m\n\u001b[1;32m    204\u001b[0m     \u001b[0;32mdef\u001b[0m \u001b[0m_generate_synonym\u001b[0m\u001b[0;34m(\u001b[0m\u001b[0mself\u001b[0m\u001b[0;34m,\u001b[0m \u001b[0mdb_object\u001b[0m\u001b[0;34m,\u001b[0m \u001b[0mschema\u001b[0m\u001b[0;34m)\u001b[0m\u001b[0;34m:\u001b[0m\u001b[0;34m\u001b[0m\u001b[0;34m\u001b[0m\u001b[0m\n\u001b[0;32m--> 205\u001b[0;31m         \u001b[0mclean_db_object\u001b[0m \u001b[0;34m=\u001b[0m \u001b[0mself\u001b[0m\u001b[0;34m.\u001b[0m\u001b[0m_clean_string\u001b[0m\u001b[0;34m(\u001b[0m\u001b[0mdb_object\u001b[0m\u001b[0;34m,\u001b[0m \u001b[0mfull\u001b[0m\u001b[0;34m=\u001b[0m\u001b[0;32mTrue\u001b[0m\u001b[0;34m)\u001b[0m\u001b[0;34m\u001b[0m\u001b[0;34m\u001b[0m\u001b[0m\n\u001b[0m\u001b[1;32m    206\u001b[0m         \u001b[0mclean_schema\u001b[0m \u001b[0;34m=\u001b[0m \u001b[0mself\u001b[0m\u001b[0;34m.\u001b[0m\u001b[0m_clean_string\u001b[0m\u001b[0;34m(\u001b[0m\u001b[0mschema\u001b[0m\u001b[0;34m,\u001b[0m \u001b[0mfull\u001b[0m\u001b[0;34m=\u001b[0m\u001b[0;32mTrue\u001b[0m\u001b[0;34m)\u001b[0m\u001b[0;34m\u001b[0m\u001b[0;34m\u001b[0m\u001b[0m\n\u001b[1;32m    207\u001b[0m         \u001b[0;32mif\u001b[0m \u001b[0mdb_object\u001b[0m \u001b[0;32mand\u001b[0m \u001b[0mschema\u001b[0m\u001b[0;34m:\u001b[0m\u001b[0;34m\u001b[0m\u001b[0;34m\u001b[0m\u001b[0m\n",
      "\u001b[0;32m~/SAP/GitRepos/HANAML/artifact/src/hana_ml_artifact/sql_processor.py\u001b[0m in \u001b[0;36m_clean_string\u001b[0;34m(self, value, full)\u001b[0m\n\u001b[1;32m    210\u001b[0m     \u001b[0;32mdef\u001b[0m \u001b[0m_clean_string\u001b[0m\u001b[0;34m(\u001b[0m\u001b[0mself\u001b[0m\u001b[0;34m,\u001b[0m \u001b[0mvalue\u001b[0m\u001b[0;34m,\u001b[0m \u001b[0mfull\u001b[0m\u001b[0;34m=\u001b[0m\u001b[0;32mFalse\u001b[0m\u001b[0;34m)\u001b[0m\u001b[0;34m:\u001b[0m \u001b[0;31m# Full is to remove all special charactes otherwise only bare minimum cleaning (# and \") is done which is default.\u001b[0m\u001b[0;34m\u001b[0m\u001b[0;34m\u001b[0m\u001b[0m\n\u001b[1;32m    211\u001b[0m         \u001b[0;32mif\u001b[0m \u001b[0mfull\u001b[0m\u001b[0;34m:\u001b[0m\u001b[0;34m\u001b[0m\u001b[0;34m\u001b[0m\u001b[0m\n\u001b[0;32m--> 212\u001b[0;31m             \u001b[0;32mreturn\u001b[0m \u001b[0mStringUtils\u001b[0m\u001b[0;34m.\u001b[0m\u001b[0mremove_special_characters\u001b[0m\u001b[0;34m(\u001b[0m\u001b[0mvalue\u001b[0m\u001b[0;34m)\u001b[0m\u001b[0;34m\u001b[0m\u001b[0;34m\u001b[0m\u001b[0m\n\u001b[0m\u001b[1;32m    213\u001b[0m         \u001b[0;32mif\u001b[0m \u001b[0;32mnot\u001b[0m \u001b[0mfull\u001b[0m\u001b[0;34m:\u001b[0m\u001b[0;34m\u001b[0m\u001b[0;34m\u001b[0m\u001b[0m\n\u001b[1;32m    214\u001b[0m             replacements = {\n",
      "\u001b[0;32m~/SAP/GitRepos/HANAML/artifact/src/hana_ml_artifact/hana_ml_utils/string_parsing.py\u001b[0m in \u001b[0;36mremove_special_characters\u001b[0;34m(input_string)\u001b[0m\n\u001b[1;32m     39\u001b[0m     \u001b[0;34m@\u001b[0m\u001b[0mstaticmethod\u001b[0m\u001b[0;34m\u001b[0m\u001b[0;34m\u001b[0m\u001b[0m\n\u001b[1;32m     40\u001b[0m     \u001b[0;32mdef\u001b[0m \u001b[0mremove_special_characters\u001b[0m\u001b[0;34m(\u001b[0m\u001b[0minput_string\u001b[0m\u001b[0;34m)\u001b[0m\u001b[0;34m:\u001b[0m\u001b[0;34m\u001b[0m\u001b[0;34m\u001b[0m\u001b[0m\n\u001b[0;32m---> 41\u001b[0;31m         \u001b[0;32mreturn\u001b[0m \u001b[0;34m''\u001b[0m\u001b[0;34m.\u001b[0m\u001b[0mjoin\u001b[0m\u001b[0;34m(\u001b[0m\u001b[0me\u001b[0m \u001b[0;32mfor\u001b[0m \u001b[0me\u001b[0m \u001b[0;32min\u001b[0m \u001b[0minput_string\u001b[0m \u001b[0;32mif\u001b[0m \u001b[0me\u001b[0m\u001b[0;34m.\u001b[0m\u001b[0misalnum\u001b[0m\u001b[0;34m(\u001b[0m\u001b[0;34m)\u001b[0m\u001b[0;34m)\u001b[0m\u001b[0;34m\u001b[0m\u001b[0;34m\u001b[0m\u001b[0m\n\u001b[0m",
      "\u001b[0;31mTypeError\u001b[0m: 'NoneType' object is not iterable"
     ]
    }
   ],
   "source": [
    "artifact_generator = Generator(ex_id, version, 'CROSS_SCHEMA_SANDBOX', conn, outputdir)"
   ]
  },
  {
   "cell_type": "code",
   "execution_count": null,
   "metadata": {},
   "outputs": [],
   "source": [
    "conn.sql_tracer.get_sql_trace()"
   ]
  },
  {
   "cell_type": "code",
   "execution_count": null,
   "metadata": {},
   "outputs": [],
   "source": [
    "print(sys.path)\n",
    "\n"
   ]
  },
  {
   "cell_type": "code",
   "execution_count": null,
   "metadata": {},
   "outputs": [],
   "source": []
  }
 ],
 "metadata": {
  "kernelspec": {
   "display_name": "Python 3",
   "language": "python",
   "name": "python3"
  },
  "language_info": {
   "codemirror_mode": {
    "name": "ipython",
    "version": 3
   },
   "file_extension": ".py",
   "mimetype": "text/x-python",
   "name": "python",
   "nbconvert_exporter": "python",
   "pygments_lexer": "ipython3",
   "version": "3.7.3"
  }
 },
 "nbformat": 4,
 "nbformat_minor": 2
}
